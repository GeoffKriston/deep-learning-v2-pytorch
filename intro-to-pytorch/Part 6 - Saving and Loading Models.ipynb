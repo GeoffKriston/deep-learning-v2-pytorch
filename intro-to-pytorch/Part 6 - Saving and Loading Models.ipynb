{
 "cells": [
  {
   "cell_type": "markdown",
   "metadata": {},
   "source": [
    "# Saving and Loading Models\n",
    "\n",
    "In this notebook, I'll show you how to save and load models with PyTorch. This is important because you'll often want to load previously trained models to use in making predictions or to continue training on new data."
   ]
  },
  {
   "cell_type": "code",
   "execution_count": 1,
   "metadata": {},
   "outputs": [],
   "source": [
    "%matplotlib inline\n",
    "%config InlineBackend.figure_format = 'retina'\n",
    "\n",
    "import matplotlib.pyplot as plt\n",
    "\n",
    "import torch\n",
    "from torch import nn\n",
    "from torch import optim\n",
    "import torch.nn.functional as F\n",
    "from torchvision import datasets, transforms\n",
    "\n",
    "import helper\n",
    "import fc_model"
   ]
  },
  {
   "cell_type": "code",
   "execution_count": 2,
   "metadata": {},
   "outputs": [],
   "source": [
    "# Define a transform to normalize the data\n",
    "transform = transforms.Compose([transforms.ToTensor(),\n",
    "                                transforms.Normalize((0.5,), (0.5,))])\n",
    "# Download and load the training data\n",
    "trainset = datasets.FashionMNIST('F_MNIST_data/', download=True, train=True, transform=transform)\n",
    "trainloader = torch.utils.data.DataLoader(trainset, batch_size=64, shuffle=True)\n",
    "\n",
    "# Download and load the test data\n",
    "testset = datasets.FashionMNIST('F_MNIST_data/', download=True, train=False, transform=transform)\n",
    "testloader = torch.utils.data.DataLoader(testset, batch_size=64, shuffle=True)"
   ]
  },
  {
   "cell_type": "markdown",
   "metadata": {},
   "source": [
    "Here we can see one of the images."
   ]
  },
  {
   "cell_type": "code",
   "execution_count": 3,
   "metadata": {},
   "outputs": [
    {
     "data": {
      "image/png": "[encoded data removed]",
      "text/plain": [
       "<Figure size 432x288 with 1 Axes>"
      ]
     },
     "metadata": {
      "image/png": {
       "height": 233,
       "width": 233
      },
      "needs_background": "light"
     },
     "output_type": "display_data"
    }
   ],
   "source": [
    "image, label = next(iter(trainloader))\n",
    "helper.imshow(image[0,:]);"
   ]
  },
  {
   "cell_type": "markdown",
   "metadata": {},
   "source": [
    "# Train a network\n",
    "\n",
    "To make things more concise here, I moved the model architecture and training code from the last part to a file called `fc_model`. Importing this, we can easily create a fully-connected network with `fc_model.Network`, and train the network using `fc_model.train`. I'll use this model (once it's trained) to demonstrate how we can save and load models."
   ]
  },
  {
   "cell_type": "code",
   "execution_count": 4,
   "metadata": {},
   "outputs": [],
   "source": [
    "# Create the network, define the criterion and optimizer\n",
    "\n",
    "model = fc_model.Network(784, 10, [512, 256, 128])\n",
    "criterion = nn.NLLLoss()\n",
    "optimizer = optim.Adam(model.parameters(), lr=0.001)"
   ]
  },
  {
   "cell_type": "code",
   "execution_count": 5,
   "metadata": {},
   "outputs": [
    {
     "name": "stdout",
     "output_type": "stream",
     "text": [
      "('Epoch: 1/2.. ', 'Training Loss: 1.720.. ', 'Test Loss: 0.978.. ', 'Test Accuracy: 0.607')\n",
      "('Epoch: 1/2.. ', 'Training Loss: 1.009.. ', 'Test Loss: 0.742.. ', 'Test Accuracy: 0.703')\n",
      "('Epoch: 1/2.. ', 'Training Loss: 0.854.. ', 'Test Loss: 0.676.. ', 'Test Accuracy: 0.751')\n",
      "('Epoch: 1/2.. ', 'Training Loss: 0.804.. ', 'Test Loss: 0.636.. ', 'Test Accuracy: 0.747')\n",
      "('Epoch: 1/2.. ', 'Training Loss: 0.774.. ', 'Test Loss: 0.620.. ', 'Test Accuracy: 0.759')\n",
      "('Epoch: 1/2.. ', 'Training Loss: 0.694.. ', 'Test Loss: 0.596.. ', 'Test Accuracy: 0.766')\n",
      "('Epoch: 1/2.. ', 'Training Loss: 0.689.. ', 'Test Loss: 0.596.. ', 'Test Accuracy: 0.768')\n",
      "('Epoch: 1/2.. ', 'Training Loss: 0.684.. ', 'Test Loss: 0.562.. ', 'Test Accuracy: 0.792')\n",
      "('Epoch: 1/2.. ', 'Training Loss: 0.675.. ', 'Test Loss: 0.555.. ', 'Test Accuracy: 0.795')\n",
      "('Epoch: 1/2.. ', 'Training Loss: 0.646.. ', 'Test Loss: 0.544.. ', 'Test Accuracy: 0.799')\n",
      "('Epoch: 1/2.. ', 'Training Loss: 0.639.. ', 'Test Loss: 0.550.. ', 'Test Accuracy: 0.802')\n",
      "('Epoch: 1/2.. ', 'Training Loss: 0.604.. ', 'Test Loss: 0.528.. ', 'Test Accuracy: 0.810')\n",
      "('Epoch: 1/2.. ', 'Training Loss: 0.615.. ', 'Test Loss: 0.512.. ', 'Test Accuracy: 0.812')\n",
      "('Epoch: 1/2.. ', 'Training Loss: 0.587.. ', 'Test Loss: 0.511.. ', 'Test Accuracy: 0.810')\n",
      "('Epoch: 1/2.. ', 'Training Loss: 0.593.. ', 'Test Loss: 0.521.. ', 'Test Accuracy: 0.796')\n",
      "('Epoch: 1/2.. ', 'Training Loss: 0.570.. ', 'Test Loss: 0.516.. ', 'Test Accuracy: 0.807')\n",
      "('Epoch: 1/2.. ', 'Training Loss: 0.622.. ', 'Test Loss: 0.511.. ', 'Test Accuracy: 0.813')\n",
      "('Epoch: 1/2.. ', 'Training Loss: 0.607.. ', 'Test Loss: 0.521.. ', 'Test Accuracy: 0.809')\n",
      "('Epoch: 1/2.. ', 'Training Loss: 0.605.. ', 'Test Loss: 0.508.. ', 'Test Accuracy: 0.818')\n",
      "('Epoch: 1/2.. ', 'Training Loss: 0.585.. ', 'Test Loss: 0.509.. ', 'Test Accuracy: 0.812')\n",
      "('Epoch: 1/2.. ', 'Training Loss: 0.551.. ', 'Test Loss: 0.502.. ', 'Test Accuracy: 0.815')\n",
      "('Epoch: 1/2.. ', 'Training Loss: 0.588.. ', 'Test Loss: 0.500.. ', 'Test Accuracy: 0.817')\n",
      "('Epoch: 1/2.. ', 'Training Loss: 0.542.. ', 'Test Loss: 0.474.. ', 'Test Accuracy: 0.826')\n",
      "('Epoch: 2/2.. ', 'Training Loss: 0.567.. ', 'Test Loss: 0.477.. ', 'Test Accuracy: 0.820')\n",
      "('Epoch: 2/2.. ', 'Training Loss: 0.530.. ', 'Test Loss: 0.472.. ', 'Test Accuracy: 0.828')\n",
      "('Epoch: 2/2.. ', 'Training Loss: 0.516.. ', 'Test Loss: 0.478.. ', 'Test Accuracy: 0.827')\n",
      "('Epoch: 2/2.. ', 'Training Loss: 0.561.. ', 'Test Loss: 0.482.. ', 'Test Accuracy: 0.829')\n",
      "('Epoch: 2/2.. ', 'Training Loss: 0.531.. ', 'Test Loss: 0.464.. ', 'Test Accuracy: 0.831')\n",
      "('Epoch: 2/2.. ', 'Training Loss: 0.560.. ', 'Test Loss: 0.484.. ', 'Test Accuracy: 0.824')\n",
      "('Epoch: 2/2.. ', 'Training Loss: 0.592.. ', 'Test Loss: 0.473.. ', 'Test Accuracy: 0.823')\n",
      "('Epoch: 2/2.. ', 'Training Loss: 0.562.. ', 'Test Loss: 0.485.. ', 'Test Accuracy: 0.821')\n",
      "('Epoch: 2/2.. ', 'Training Loss: 0.591.. ', 'Test Loss: 0.478.. ', 'Test Accuracy: 0.828')\n",
      "('Epoch: 2/2.. ', 'Training Loss: 0.524.. ', 'Test Loss: 0.457.. ', 'Test Accuracy: 0.830')\n",
      "('Epoch: 2/2.. ', 'Training Loss: 0.541.. ', 'Test Loss: 0.460.. ', 'Test Accuracy: 0.832')\n",
      "('Epoch: 2/2.. ', 'Training Loss: 0.563.. ', 'Test Loss: 0.460.. ', 'Test Accuracy: 0.828')\n",
      "('Epoch: 2/2.. ', 'Training Loss: 0.531.. ', 'Test Loss: 0.469.. ', 'Test Accuracy: 0.827')\n",
      "('Epoch: 2/2.. ', 'Training Loss: 0.548.. ', 'Test Loss: 0.467.. ', 'Test Accuracy: 0.831')\n",
      "('Epoch: 2/2.. ', 'Training Loss: 0.528.. ', 'Test Loss: 0.462.. ', 'Test Accuracy: 0.835')\n",
      "('Epoch: 2/2.. ', 'Training Loss: 0.521.. ', 'Test Loss: 0.458.. ', 'Test Accuracy: 0.831')\n",
      "('Epoch: 2/2.. ', 'Training Loss: 0.530.. ', 'Test Loss: 0.451.. ', 'Test Accuracy: 0.836')\n",
      "('Epoch: 2/2.. ', 'Training Loss: 0.555.. ', 'Test Loss: 0.474.. ', 'Test Accuracy: 0.828')\n",
      "('Epoch: 2/2.. ', 'Training Loss: 0.521.. ', 'Test Loss: 0.462.. ', 'Test Accuracy: 0.831')\n",
      "('Epoch: 2/2.. ', 'Training Loss: 0.519.. ', 'Test Loss: 0.466.. ', 'Test Accuracy: 0.829')\n",
      "('Epoch: 2/2.. ', 'Training Loss: 0.503.. ', 'Test Loss: 0.447.. ', 'Test Accuracy: 0.837')\n",
      "('Epoch: 2/2.. ', 'Training Loss: 0.490.. ', 'Test Loss: 0.441.. ', 'Test Accuracy: 0.840')\n",
      "('Epoch: 2/2.. ', 'Training Loss: 0.464.. ', 'Test Loss: 0.439.. ', 'Test Accuracy: 0.839')\n"
     ]
    }
   ],
   "source": [
    "fc_model.train(model, trainloader, testloader, criterion, optimizer, epochs=2)"
   ]
  },
  {
   "cell_type": "markdown",
   "metadata": {},
   "source": [
    "## Saving and loading networks\n",
    "\n",
    "As you can imagine, it's impractical to train a network every time you need to use it. Instead, we can save trained networks then load them later to train more or use them for predictions.\n",
    "\n",
    "The parameters for PyTorch networks are stored in a model's `state_dict`. We can see the state dict contains the weight and bias matrices for each of our layers."
   ]
  },
  {
   "cell_type": "code",
   "execution_count": 6,
   "metadata": {},
   "outputs": [
    {
     "name": "stdout",
     "output_type": "stream",
     "text": [
      "('Our model: \\n\\n', Network(\n",
      "  (hidden_layers): ModuleList(\n",
      "    (0): Linear(in_features=784, out_features=512, bias=True)\n",
      "    (1): Linear(in_features=512, out_features=256, bias=True)\n",
      "    (2): Linear(in_features=256, out_features=128, bias=True)\n",
      "  )\n",
      "  (output): Linear(in_features=128, out_features=10, bias=True)\n",
      "  (dropout): Dropout(p=0.5)\n",
      "), '\\n')\n",
      "('The state dict keys: \\n\\n', ['hidden_layers.0.weight', 'hidden_layers.0.bias', 'hidden_layers.1.weight', 'hidden_layers.1.bias', 'hidden_layers.2.weight', 'hidden_layers.2.bias', 'output.weight', 'output.bias'])\n"
     ]
    }
   ],
   "source": [
    "print(\"Our model: \\n\\n\", model, '\\n')\n",
    "print(\"The state dict keys: \\n\\n\", model.state_dict().keys())"
   ]
  },
  {
   "cell_type": "markdown",
   "metadata": {},
   "source": [
    "The simplest thing to do is simply save the state dict with `torch.save`. For example, we can save it to a file `'checkpoint.pth'`."
   ]
  },
  {
   "cell_type": "code",
   "execution_count": 7,
   "metadata": {},
   "outputs": [],
   "source": [
    "torch.save(model.state_dict(), 'checkpoint.pth')\n",
    "torch.save(model.state_dict(), 'mysave.pth')"
   ]
  },
  {
   "cell_type": "markdown",
   "metadata": {},
   "source": [
    "Then we can load the state dict with `torch.load`."
   ]
  },
  {
   "cell_type": "code",
   "execution_count": 10,
   "metadata": {},
   "outputs": [
    {
     "name": "stdout",
     "output_type": "stream",
     "text": [
      "['hidden_layers.0.weight', 'hidden_layers.0.bias', 'hidden_layers.1.weight', 'hidden_layers.1.bias', 'hidden_layers.2.weight', 'hidden_layers.2.bias', 'output.weight', 'output.bias']\n",
      "OrderedDict([('hidden_layers.0.weight', tensor([[ 0.0485,  0.0506,  0.0069,  ...,  0.0109,  0.0395, -0.0050],\n",
      "        [ 0.0171,  0.0142,  0.0325,  ...,  0.0295,  0.0248,  0.0204],\n",
      "        [ 0.0185,  0.0128,  0.0275,  ...,  0.0014,  0.0336,  0.0486],\n",
      "        ...,\n",
      "        [-0.0054,  0.0284, -0.0217,  ...,  0.0359,  0.0308, -0.0333],\n",
      "        [ 0.0258,  0.0260, -0.0074,  ..., -0.0048,  0.0402, -0.0301],\n",
      "        [ 0.0477, -0.0053,  0.0341,  ...,  0.0236,  0.0233,  0.0341]])), ('hidden_layers.0.bias', tensor([-0.0379, -0.0011, -0.0286, -0.0077,  0.0031, -0.0099, -0.0222, -0.0522,\n",
      "        -0.0159, -0.0240, -0.0407, -0.0226, -0.0268, -0.0176, -0.0819, -0.0153,\n",
      "        -0.0318,  0.0241, -0.0533, -0.0035, -0.0647, -0.0064, -0.0481,  0.0059,\n",
      "        -0.0376, -0.0556, -0.0317, -0.0026, -0.0107, -0.0118,  0.0192,  0.0028,\n",
      "        -0.0250, -0.0319, -0.0077, -0.0413, -0.0555, -0.0357, -0.0345,  0.0086,\n",
      "        -0.0255, -0.0125,  0.0150, -0.0109, -0.0221,  0.0008, -0.0341,  0.0100,\n",
      "         0.0156, -0.0159, -0.0066, -0.0234, -0.0211, -0.0005, -0.0495, -0.0034,\n",
      "        -0.0072,  0.0037, -0.0342, -0.0375, -0.0490, -0.0412,  0.0114,  0.0012,\n",
      "        -0.0301, -0.0354,  0.0232, -0.0315, -0.0215, -0.0289, -0.0592, -0.0017,\n",
      "        -0.0378, -0.0121, -0.0274, -0.0536, -0.0738, -0.0069, -0.0131, -0.0645,\n",
      "        -0.0352,  0.0042, -0.0420,  0.0142, -0.0490,  0.0003, -0.0702, -0.0273,\n",
      "         0.0067, -0.0252,  0.0128, -0.0185, -0.0084, -0.0123, -0.0281,  0.0083,\n",
      "        -0.0632, -0.0252, -0.0441,  0.0115, -0.0309, -0.0480, -0.0309,  0.0426,\n",
      "        -0.0575, -0.0289, -0.0059, -0.0634, -0.0098,  0.0081,  0.0024,  0.0254,\n",
      "        -0.0580,  0.0045, -0.0242,  0.0305, -0.0007, -0.0379,  0.0037,  0.0199,\n",
      "        -0.0290,  0.0076, -0.0261,  0.0020, -0.0065,  0.0240, -0.0099, -0.0438,\n",
      "        -0.0350, -0.0103, -0.0371, -0.0482, -0.0167, -0.0426, -0.0170, -0.0303,\n",
      "        -0.0781, -0.0533, -0.0597, -0.0692, -0.0086,  0.0154,  0.0057, -0.0058,\n",
      "        -0.0021, -0.0017, -0.0103, -0.0529,  0.0195, -0.0269, -0.0153, -0.0130,\n",
      "         0.0279, -0.0143, -0.0541, -0.0507,  0.0171, -0.0008,  0.0093, -0.0420,\n",
      "        -0.0592,  0.0200, -0.0672, -0.0408,  0.0202, -0.0131, -0.0257, -0.0651,\n",
      "        -0.0283, -0.0061, -0.0394, -0.0703, -0.0281,  0.0354, -0.0021, -0.0363,\n",
      "        -0.0712, -0.0240, -0.0123,  0.0064,  0.0180, -0.0182, -0.0587, -0.0488,\n",
      "         0.0071, -0.0074, -0.0359, -0.0403,  0.0224, -0.0165, -0.0072, -0.0004,\n",
      "        -0.0384, -0.0056, -0.0106, -0.0529, -0.0386, -0.0138, -0.0086, -0.0294,\n",
      "         0.0154,  0.0014, -0.0474, -0.0076, -0.0139,  0.0007, -0.0187,  0.0118,\n",
      "        -0.0029, -0.0131,  0.0546, -0.0320, -0.0179,  0.0312,  0.0304, -0.0283,\n",
      "        -0.0114, -0.0038, -0.0040,  0.0115,  0.0072,  0.0020, -0.0246, -0.0078,\n",
      "        -0.0248,  0.0065, -0.0038, -0.0081, -0.0302, -0.0047,  0.0479, -0.0255,\n",
      "        -0.0381,  0.0162,  0.0120, -0.0517,  0.0153, -0.0134, -0.0025,  0.0168,\n",
      "        -0.0117, -0.0294, -0.0066,  0.0224, -0.0290, -0.0067, -0.0208, -0.0204,\n",
      "         0.0416, -0.0416, -0.0251, -0.0127,  0.0048,  0.0134, -0.0226, -0.0210,\n",
      "         0.0024, -0.0102, -0.0166, -0.0265, -0.0291, -0.0564, -0.0341, -0.0375,\n",
      "        -0.0041, -0.0518, -0.0123,  0.0130,  0.0062, -0.0137, -0.0652, -0.0059,\n",
      "         0.0011,  0.0306,  0.0090, -0.0308, -0.0460,  0.0206, -0.0113,  0.0191,\n",
      "         0.0108, -0.0022, -0.0154, -0.0520,  0.0392, -0.0085,  0.0071, -0.0200,\n",
      "        -0.0276, -0.0288,  0.0289,  0.0625, -0.0231, -0.0187, -0.0238, -0.0639,\n",
      "         0.0029, -0.0363,  0.0187, -0.0478, -0.0358, -0.0184, -0.0454, -0.0494,\n",
      "        -0.0548,  0.0149, -0.0175,  0.0133, -0.0316, -0.0477,  0.0343, -0.0076,\n",
      "         0.0414, -0.0325, -0.0546,  0.0259, -0.0459, -0.0495,  0.0032, -0.0309,\n",
      "        -0.0172, -0.0132, -0.0195, -0.0130, -0.0551, -0.0330,  0.0191, -0.0182,\n",
      "         0.0092, -0.0043,  0.0183, -0.0138, -0.0425, -0.0421, -0.0098, -0.0203,\n",
      "        -0.0170, -0.0267, -0.0232, -0.0450, -0.0344,  0.0029, -0.0379,  0.0138,\n",
      "         0.0113, -0.0475,  0.0157,  0.0097, -0.0713,  0.0005, -0.0282,  0.0498,\n",
      "        -0.0610,  0.0278, -0.0416, -0.0690, -0.0117, -0.0207, -0.0288,  0.0292,\n",
      "        -0.0246, -0.0032, -0.0122, -0.0085, -0.0355,  0.0373, -0.0286, -0.0138,\n",
      "        -0.0089, -0.0017, -0.0196,  0.0129,  0.0089,  0.0137, -0.0402, -0.0582,\n",
      "        -0.0450, -0.0075, -0.0322, -0.0198,  0.0075, -0.0395,  0.0168, -0.0341,\n",
      "         0.0115, -0.0019, -0.0139,  0.0108, -0.0484,  0.0061,  0.0015, -0.0155,\n",
      "        -0.0195, -0.0470,  0.0099, -0.0390, -0.0231, -0.0090,  0.0003,  0.0188,\n",
      "        -0.0486, -0.0350, -0.0416,  0.0354, -0.0457,  0.0061, -0.0212,  0.0125,\n",
      "         0.0001, -0.0620, -0.0741,  0.0304, -0.0154, -0.0255,  0.0261,  0.0114,\n",
      "        -0.0029, -0.0566, -0.0198,  0.0031, -0.0130, -0.0690, -0.0057, -0.0332,\n",
      "        -0.0022, -0.0164, -0.0119, -0.0489, -0.0252, -0.0369, -0.0321,  0.0149,\n",
      "        -0.0360,  0.0136, -0.0598,  0.0278,  0.0228, -0.0255, -0.0222, -0.0123,\n",
      "        -0.0383, -0.0216, -0.0346, -0.0560, -0.0096,  0.0076,  0.0210,  0.0086,\n",
      "         0.0171, -0.0141,  0.0112, -0.0461, -0.0144, -0.0094, -0.0491, -0.0527,\n",
      "        -0.0156, -0.0161, -0.0005, -0.0203, -0.0075, -0.0138,  0.0276,  0.0104,\n",
      "         0.0181, -0.0431,  0.0129,  0.0003, -0.0011, -0.0559, -0.0623, -0.0074,\n",
      "        -0.0292, -0.0452, -0.0464, -0.0414,  0.0313, -0.0124, -0.0606, -0.0121,\n",
      "        -0.0220, -0.0428,  0.0070, -0.0137, -0.0560, -0.0224, -0.0048, -0.0136,\n",
      "        -0.0059, -0.0418, -0.0442, -0.0015,  0.0185, -0.0262, -0.0040, -0.0079,\n",
      "        -0.0706, -0.0199, -0.0289,  0.0114, -0.0216,  0.0091, -0.0617,  0.0130,\n",
      "        -0.0261,  0.0078, -0.0167,  0.0199, -0.0421,  0.0212, -0.0164, -0.0441])), ('hidden_layers.1.weight', tensor([[ 0.0628, -0.0459, -0.0553,  ..., -0.0861,  0.0321, -0.0779],\n",
      "        [ 0.0482,  0.0382,  0.0218,  ..., -0.0790,  0.0068, -0.0068],\n",
      "        [ 0.0819,  0.0283,  0.0523,  ..., -0.0957,  0.0643,  0.0692],\n",
      "        ...,\n",
      "        [-0.0591,  0.0059,  0.0121,  ...,  0.0607,  0.0003,  0.0107],\n",
      "        [-0.0652,  0.0230,  0.0136,  ..., -0.0021, -0.0131,  0.0055],\n",
      "        [-0.0642,  0.0236, -0.0230,  ..., -0.0034, -0.0427, -0.0047]])), ('hidden_layers.1.bias', tensor([-0.0078, -0.0013,  0.0374, -0.0349, -0.0779,  0.0220, -0.0487,  0.0002,\n",
      "         0.0276,  0.0176,  0.0511,  0.0376, -0.0121,  0.0787,  0.0531,  0.0744,\n",
      "        -0.0260, -0.0602, -0.0277, -0.0066, -0.0385, -0.0326,  0.0585, -0.0064,\n",
      "         0.0178,  0.0016, -0.0060, -0.0347, -0.0281,  0.0445,  0.0402,  0.0395,\n",
      "         0.0021,  0.0961, -0.0478,  0.0090,  0.0415, -0.0059,  0.0004, -0.0527,\n",
      "         0.0501,  0.0131,  0.0278, -0.0788, -0.0684, -0.0101, -0.0253,  0.0534,\n",
      "         0.0534, -0.0012,  0.0141,  0.0273, -0.0399,  0.0113, -0.0484,  0.0320,\n",
      "        -0.0925,  0.0045,  0.1068,  0.1266, -0.0423,  0.0038, -0.0264, -0.0048,\n",
      "         0.0276, -0.0263,  0.0493,  0.0583,  0.0771,  0.0609,  0.0110,  0.0189,\n",
      "         0.0035,  0.0223,  0.0881,  0.0043,  0.0626,  0.0600,  0.1017, -0.0341,\n",
      "         0.0208,  0.0528, -0.0203, -0.0145,  0.0640, -0.0725,  0.0921, -0.0870,\n",
      "        -0.0701,  0.0576, -0.0260,  0.0234,  0.0534, -0.0367, -0.0024,  0.0787,\n",
      "        -0.0046,  0.0551,  0.0043,  0.0956,  0.0681,  0.0142,  0.0473, -0.1055,\n",
      "         0.0890, -0.1497,  0.0587, -0.0013,  0.0148,  0.0396,  0.0011, -0.0170,\n",
      "        -0.0178, -0.0273, -0.0179, -0.0494, -0.0547,  0.0028, -0.0300, -0.0103,\n",
      "         0.1136,  0.0405,  0.0194,  0.0662,  0.0544,  0.0753,  0.0051,  0.0651,\n",
      "         0.0176,  0.0307,  0.0848,  0.0047,  0.0422,  0.0101, -0.0022,  0.0462,\n",
      "        -0.0821, -0.0071,  0.0690, -0.0146,  0.0019, -0.0155,  0.0364, -0.0640,\n",
      "         0.0402, -0.0019,  0.0108,  0.0154,  0.0841, -0.0091, -0.0234,  0.0518,\n",
      "         0.1384, -0.0542,  0.0430, -0.0416, -0.0281, -0.0038,  0.0066,  0.0528,\n",
      "         0.0233,  0.0042,  0.0232, -0.0061,  0.0606,  0.0506,  0.0088,  0.0197,\n",
      "         0.0073,  0.0621,  0.1065,  0.0011,  0.0101,  0.0351,  0.0046, -0.0449,\n",
      "         0.0099, -0.0492,  0.0215,  0.0759,  0.0166,  0.0179,  0.0682,  0.0753,\n",
      "         0.0185, -0.0494, -0.0141,  0.1024,  0.0569, -0.0171,  0.0249,  0.0192,\n",
      "         0.0013,  0.0603,  0.0487,  0.0074, -0.0743,  0.1203,  0.0400,  0.0368,\n",
      "         0.0246,  0.0509, -0.0157,  0.0497,  0.0971, -0.0113,  0.0313,  0.0310,\n",
      "         0.0166, -0.0050,  0.0783,  0.0694, -0.0146,  0.0305, -0.0305,  0.0166,\n",
      "         0.0701,  0.0310, -0.0125, -0.0078,  0.0258,  0.0281, -0.0173,  0.0024,\n",
      "         0.0454, -0.0459,  0.0399, -0.0782,  0.0956, -0.0196,  0.0111,  0.0656,\n",
      "         0.0931,  0.0913,  0.0270, -0.0392, -0.0388,  0.1091,  0.0819,  0.0330,\n",
      "        -0.0172,  0.0015,  0.0879,  0.1048,  0.0325, -0.1085,  0.0563,  0.0143,\n",
      "         0.0606, -0.0139,  0.0794,  0.0531, -0.0642,  0.0621,  0.0065,  0.0114])), ('hidden_layers.2.weight', tensor([[ 0.0082, -0.0667,  0.0610,  ...,  0.0260, -0.0366, -0.0648],\n",
      "        [-0.0065, -0.0156,  0.0186,  ...,  0.0348,  0.0619,  0.0562],\n",
      "        [-0.0222,  0.0620, -0.0545,  ..., -0.0773, -0.0210,  0.0096],\n",
      "        ...,\n",
      "        [ 0.0262, -0.0933,  0.0067,  ..., -0.0359, -0.0213, -0.0228],\n",
      "        [-0.0251, -0.0335,  0.0191,  ...,  0.1135, -0.0244, -0.0081],\n",
      "        [-0.0326,  0.0643, -0.0675,  ...,  0.0401,  0.0610, -0.0316]])), ('hidden_layers.2.bias', tensor([ 1.7548e-01,  1.4783e-01,  9.8050e-02,  1.1803e-01,  1.7021e-01,\n",
      "        -1.0913e-02, -5.2218e-02,  1.0938e-01, -8.9967e-02, -5.8650e-02,\n",
      "        -7.6217e-02, -3.9852e-02,  8.2847e-02,  8.3934e-02, -4.5445e-02,\n",
      "         2.1908e-02,  1.6101e-02,  1.0037e-02,  9.8775e-03,  1.2326e-01,\n",
      "         1.2116e-01,  9.2232e-02,  7.7546e-02, -1.0574e-02,  1.8611e-02,\n",
      "         4.6503e-02,  1.1050e-01,  5.9154e-02,  1.3725e-02,  3.8542e-02,\n",
      "         1.4371e-02,  3.1765e-03,  5.3035e-02,  8.3023e-02,  1.1479e-01,\n",
      "         2.3993e-02,  5.9046e-02,  2.5666e-02, -8.2411e-02, -2.5665e-03,\n",
      "         9.8353e-02,  2.0027e-03,  1.8725e-02,  5.8046e-02,  9.5130e-02,\n",
      "        -2.8861e-02, -2.2202e-02,  1.3449e-02,  6.4380e-02,  1.6190e-01,\n",
      "         4.9061e-02,  7.7480e-02, -1.5281e-02,  8.1366e-02,  1.0073e-01,\n",
      "        -3.2599e-02,  5.4963e-02,  1.9173e-01, -7.7324e-03,  1.0946e-02,\n",
      "         3.9151e-02,  1.1546e-02,  1.2773e-01,  1.0507e-01,  1.3586e-01,\n",
      "         5.7404e-02, -2.1748e-02,  7.8011e-02,  2.3084e-02, -1.4859e-02,\n",
      "         1.1375e-02,  7.0303e-02,  1.0353e-01,  8.5898e-02,  1.4916e-01,\n",
      "         1.0051e-01,  1.2297e-01,  3.1823e-02,  9.6910e-02,  7.6914e-02,\n",
      "         1.2383e-01,  4.5835e-02, -6.1970e-03,  3.2208e-02,  9.5405e-02,\n",
      "         6.5089e-02,  6.9241e-05,  1.4375e-01, -3.0916e-02,  3.8423e-03,\n",
      "         1.4785e-01,  9.7475e-02,  8.5706e-02,  1.0942e-01,  1.5463e-02,\n",
      "         8.5654e-02,  7.6652e-02,  1.3314e-01,  4.2341e-02,  1.5217e-01,\n",
      "         6.7886e-02,  1.9901e-01,  3.1791e-02,  1.2802e-01, -5.7993e-02,\n",
      "         3.0399e-02,  5.4941e-02,  1.2501e-01,  8.1738e-02,  1.2685e-01,\n",
      "         2.5879e-02, -1.9708e-03,  6.0665e-02,  1.8668e-02,  1.0860e-01,\n",
      "         1.8419e-02,  6.1383e-02, -1.8855e-02,  1.1329e-01,  1.8759e-01,\n",
      "         4.7784e-02, -1.7828e-02,  1.3097e-01,  9.0210e-02,  1.0156e-01,\n",
      "         1.4584e-01,  9.2824e-02,  6.7861e-02])), ('output.weight', tensor([[-0.0066, -0.0683,  0.0307,  ..., -0.0414, -0.1368, -0.0051],\n",
      "        [-0.0033, -0.0363, -0.2273,  ..., -0.1069, -0.0930, -0.0532],\n",
      "        [ 0.0119, -0.0644, -0.0456,  ...,  0.0052,  0.0533, -0.0557],\n",
      "        ...,\n",
      "        [-0.3088,  0.0631,  0.0842,  ..., -0.2450,  0.0134,  0.0903],\n",
      "        [-0.1245,  0.0267,  0.0713,  ..., -0.1112, -0.0469,  0.0518],\n",
      "        [-0.2978, -0.0227,  0.0836,  ..., -0.1995,  0.0494,  0.0018]])), ('output.bias', tensor([ 0.0034, -0.2523, -0.0024,  0.1535,  0.0100,  0.0095,  0.0584, -0.0178,\n",
      "        -0.0370, -0.1035]))])\n"
     ]
    }
   ],
   "source": [
    "state_dict = torch.load('checkpoint.pth')\n",
    "print(state_dict.keys())\n",
    "my_state = torch.load('mysave.pth')\n",
    "print(my_state)"
   ]
  },
  {
   "cell_type": "markdown",
   "metadata": {},
   "source": [
    "And to load the state dict in to the network, you do `model.load_state_dict(state_dict)`."
   ]
  },
  {
   "cell_type": "code",
   "execution_count": 12,
   "metadata": {},
   "outputs": [
    {
     "name": "stdout",
     "output_type": "stream",
     "text": [
      "OrderedDict([('hidden_layers.0.weight', tensor([[ 0.0485,  0.0506,  0.0069,  ...,  0.0109,  0.0395, -0.0050],\n",
      "        [ 0.0171,  0.0142,  0.0325,  ...,  0.0295,  0.0248,  0.0204],\n",
      "        [ 0.0185,  0.0128,  0.0275,  ...,  0.0014,  0.0336,  0.0486],\n",
      "        ...,\n",
      "        [-0.0054,  0.0284, -0.0217,  ...,  0.0359,  0.0308, -0.0333],\n",
      "        [ 0.0258,  0.0260, -0.0074,  ..., -0.0048,  0.0402, -0.0301],\n",
      "        [ 0.0477, -0.0053,  0.0341,  ...,  0.0236,  0.0233,  0.0341]])), ('hidden_layers.0.bias', tensor([-0.0379, -0.0011, -0.0286, -0.0077,  0.0031, -0.0099, -0.0222, -0.0522,\n",
      "        -0.0159, -0.0240, -0.0407, -0.0226, -0.0268, -0.0176, -0.0819, -0.0153,\n",
      "        -0.0318,  0.0241, -0.0533, -0.0035, -0.0647, -0.0064, -0.0481,  0.0059,\n",
      "        -0.0376, -0.0556, -0.0317, -0.0026, -0.0107, -0.0118,  0.0192,  0.0028,\n",
      "        -0.0250, -0.0319, -0.0077, -0.0413, -0.0555, -0.0357, -0.0345,  0.0086,\n",
      "        -0.0255, -0.0125,  0.0150, -0.0109, -0.0221,  0.0008, -0.0341,  0.0100,\n",
      "         0.0156, -0.0159, -0.0066, -0.0234, -0.0211, -0.0005, -0.0495, -0.0034,\n",
      "        -0.0072,  0.0037, -0.0342, -0.0375, -0.0490, -0.0412,  0.0114,  0.0012,\n",
      "        -0.0301, -0.0354,  0.0232, -0.0315, -0.0215, -0.0289, -0.0592, -0.0017,\n",
      "        -0.0378, -0.0121, -0.0274, -0.0536, -0.0738, -0.0069, -0.0131, -0.0645,\n",
      "        -0.0352,  0.0042, -0.0420,  0.0142, -0.0490,  0.0003, -0.0702, -0.0273,\n",
      "         0.0067, -0.0252,  0.0128, -0.0185, -0.0084, -0.0123, -0.0281,  0.0083,\n",
      "        -0.0632, -0.0252, -0.0441,  0.0115, -0.0309, -0.0480, -0.0309,  0.0426,\n",
      "        -0.0575, -0.0289, -0.0059, -0.0634, -0.0098,  0.0081,  0.0024,  0.0254,\n",
      "        -0.0580,  0.0045, -0.0242,  0.0305, -0.0007, -0.0379,  0.0037,  0.0199,\n",
      "        -0.0290,  0.0076, -0.0261,  0.0020, -0.0065,  0.0240, -0.0099, -0.0438,\n",
      "        -0.0350, -0.0103, -0.0371, -0.0482, -0.0167, -0.0426, -0.0170, -0.0303,\n",
      "        -0.0781, -0.0533, -0.0597, -0.0692, -0.0086,  0.0154,  0.0057, -0.0058,\n",
      "        -0.0021, -0.0017, -0.0103, -0.0529,  0.0195, -0.0269, -0.0153, -0.0130,\n",
      "         0.0279, -0.0143, -0.0541, -0.0507,  0.0171, -0.0008,  0.0093, -0.0420,\n",
      "        -0.0592,  0.0200, -0.0672, -0.0408,  0.0202, -0.0131, -0.0257, -0.0651,\n",
      "        -0.0283, -0.0061, -0.0394, -0.0703, -0.0281,  0.0354, -0.0021, -0.0363,\n",
      "        -0.0712, -0.0240, -0.0123,  0.0064,  0.0180, -0.0182, -0.0587, -0.0488,\n",
      "         0.0071, -0.0074, -0.0359, -0.0403,  0.0224, -0.0165, -0.0072, -0.0004,\n",
      "        -0.0384, -0.0056, -0.0106, -0.0529, -0.0386, -0.0138, -0.0086, -0.0294,\n",
      "         0.0154,  0.0014, -0.0474, -0.0076, -0.0139,  0.0007, -0.0187,  0.0118,\n",
      "        -0.0029, -0.0131,  0.0546, -0.0320, -0.0179,  0.0312,  0.0304, -0.0283,\n",
      "        -0.0114, -0.0038, -0.0040,  0.0115,  0.0072,  0.0020, -0.0246, -0.0078,\n",
      "        -0.0248,  0.0065, -0.0038, -0.0081, -0.0302, -0.0047,  0.0479, -0.0255,\n",
      "        -0.0381,  0.0162,  0.0120, -0.0517,  0.0153, -0.0134, -0.0025,  0.0168,\n",
      "        -0.0117, -0.0294, -0.0066,  0.0224, -0.0290, -0.0067, -0.0208, -0.0204,\n",
      "         0.0416, -0.0416, -0.0251, -0.0127,  0.0048,  0.0134, -0.0226, -0.0210,\n",
      "         0.0024, -0.0102, -0.0166, -0.0265, -0.0291, -0.0564, -0.0341, -0.0375,\n",
      "        -0.0041, -0.0518, -0.0123,  0.0130,  0.0062, -0.0137, -0.0652, -0.0059,\n",
      "         0.0011,  0.0306,  0.0090, -0.0308, -0.0460,  0.0206, -0.0113,  0.0191,\n",
      "         0.0108, -0.0022, -0.0154, -0.0520,  0.0392, -0.0085,  0.0071, -0.0200,\n",
      "        -0.0276, -0.0288,  0.0289,  0.0625, -0.0231, -0.0187, -0.0238, -0.0639,\n",
      "         0.0029, -0.0363,  0.0187, -0.0478, -0.0358, -0.0184, -0.0454, -0.0494,\n",
      "        -0.0548,  0.0149, -0.0175,  0.0133, -0.0316, -0.0477,  0.0343, -0.0076,\n",
      "         0.0414, -0.0325, -0.0546,  0.0259, -0.0459, -0.0495,  0.0032, -0.0309,\n",
      "        -0.0172, -0.0132, -0.0195, -0.0130, -0.0551, -0.0330,  0.0191, -0.0182,\n",
      "         0.0092, -0.0043,  0.0183, -0.0138, -0.0425, -0.0421, -0.0098, -0.0203,\n",
      "        -0.0170, -0.0267, -0.0232, -0.0450, -0.0344,  0.0029, -0.0379,  0.0138,\n",
      "         0.0113, -0.0475,  0.0157,  0.0097, -0.0713,  0.0005, -0.0282,  0.0498,\n",
      "        -0.0610,  0.0278, -0.0416, -0.0690, -0.0117, -0.0207, -0.0288,  0.0292,\n",
      "        -0.0246, -0.0032, -0.0122, -0.0085, -0.0355,  0.0373, -0.0286, -0.0138,\n",
      "        -0.0089, -0.0017, -0.0196,  0.0129,  0.0089,  0.0137, -0.0402, -0.0582,\n",
      "        -0.0450, -0.0075, -0.0322, -0.0198,  0.0075, -0.0395,  0.0168, -0.0341,\n",
      "         0.0115, -0.0019, -0.0139,  0.0108, -0.0484,  0.0061,  0.0015, -0.0155,\n",
      "        -0.0195, -0.0470,  0.0099, -0.0390, -0.0231, -0.0090,  0.0003,  0.0188,\n",
      "        -0.0486, -0.0350, -0.0416,  0.0354, -0.0457,  0.0061, -0.0212,  0.0125,\n",
      "         0.0001, -0.0620, -0.0741,  0.0304, -0.0154, -0.0255,  0.0261,  0.0114,\n",
      "        -0.0029, -0.0566, -0.0198,  0.0031, -0.0130, -0.0690, -0.0057, -0.0332,\n",
      "        -0.0022, -0.0164, -0.0119, -0.0489, -0.0252, -0.0369, -0.0321,  0.0149,\n",
      "        -0.0360,  0.0136, -0.0598,  0.0278,  0.0228, -0.0255, -0.0222, -0.0123,\n",
      "        -0.0383, -0.0216, -0.0346, -0.0560, -0.0096,  0.0076,  0.0210,  0.0086,\n",
      "         0.0171, -0.0141,  0.0112, -0.0461, -0.0144, -0.0094, -0.0491, -0.0527,\n",
      "        -0.0156, -0.0161, -0.0005, -0.0203, -0.0075, -0.0138,  0.0276,  0.0104,\n",
      "         0.0181, -0.0431,  0.0129,  0.0003, -0.0011, -0.0559, -0.0623, -0.0074,\n",
      "        -0.0292, -0.0452, -0.0464, -0.0414,  0.0313, -0.0124, -0.0606, -0.0121,\n",
      "        -0.0220, -0.0428,  0.0070, -0.0137, -0.0560, -0.0224, -0.0048, -0.0136,\n",
      "        -0.0059, -0.0418, -0.0442, -0.0015,  0.0185, -0.0262, -0.0040, -0.0079,\n",
      "        -0.0706, -0.0199, -0.0289,  0.0114, -0.0216,  0.0091, -0.0617,  0.0130,\n",
      "        -0.0261,  0.0078, -0.0167,  0.0199, -0.0421,  0.0212, -0.0164, -0.0441])), ('hidden_layers.1.weight', tensor([[ 0.0628, -0.0459, -0.0553,  ..., -0.0861,  0.0321, -0.0779],\n",
      "        [ 0.0482,  0.0382,  0.0218,  ..., -0.0790,  0.0068, -0.0068],\n",
      "        [ 0.0819,  0.0283,  0.0523,  ..., -0.0957,  0.0643,  0.0692],\n",
      "        ...,\n",
      "        [-0.0591,  0.0059,  0.0121,  ...,  0.0607,  0.0003,  0.0107],\n",
      "        [-0.0652,  0.0230,  0.0136,  ..., -0.0021, -0.0131,  0.0055],\n",
      "        [-0.0642,  0.0236, -0.0230,  ..., -0.0034, -0.0427, -0.0047]])), ('hidden_layers.1.bias', tensor([-0.0078, -0.0013,  0.0374, -0.0349, -0.0779,  0.0220, -0.0487,  0.0002,\n",
      "         0.0276,  0.0176,  0.0511,  0.0376, -0.0121,  0.0787,  0.0531,  0.0744,\n",
      "        -0.0260, -0.0602, -0.0277, -0.0066, -0.0385, -0.0326,  0.0585, -0.0064,\n",
      "         0.0178,  0.0016, -0.0060, -0.0347, -0.0281,  0.0445,  0.0402,  0.0395,\n",
      "         0.0021,  0.0961, -0.0478,  0.0090,  0.0415, -0.0059,  0.0004, -0.0527,\n",
      "         0.0501,  0.0131,  0.0278, -0.0788, -0.0684, -0.0101, -0.0253,  0.0534,\n",
      "         0.0534, -0.0012,  0.0141,  0.0273, -0.0399,  0.0113, -0.0484,  0.0320,\n",
      "        -0.0925,  0.0045,  0.1068,  0.1266, -0.0423,  0.0038, -0.0264, -0.0048,\n",
      "         0.0276, -0.0263,  0.0493,  0.0583,  0.0771,  0.0609,  0.0110,  0.0189,\n",
      "         0.0035,  0.0223,  0.0881,  0.0043,  0.0626,  0.0600,  0.1017, -0.0341,\n",
      "         0.0208,  0.0528, -0.0203, -0.0145,  0.0640, -0.0725,  0.0921, -0.0870,\n",
      "        -0.0701,  0.0576, -0.0260,  0.0234,  0.0534, -0.0367, -0.0024,  0.0787,\n",
      "        -0.0046,  0.0551,  0.0043,  0.0956,  0.0681,  0.0142,  0.0473, -0.1055,\n",
      "         0.0890, -0.1497,  0.0587, -0.0013,  0.0148,  0.0396,  0.0011, -0.0170,\n",
      "        -0.0178, -0.0273, -0.0179, -0.0494, -0.0547,  0.0028, -0.0300, -0.0103,\n",
      "         0.1136,  0.0405,  0.0194,  0.0662,  0.0544,  0.0753,  0.0051,  0.0651,\n",
      "         0.0176,  0.0307,  0.0848,  0.0047,  0.0422,  0.0101, -0.0022,  0.0462,\n",
      "        -0.0821, -0.0071,  0.0690, -0.0146,  0.0019, -0.0155,  0.0364, -0.0640,\n",
      "         0.0402, -0.0019,  0.0108,  0.0154,  0.0841, -0.0091, -0.0234,  0.0518,\n",
      "         0.1384, -0.0542,  0.0430, -0.0416, -0.0281, -0.0038,  0.0066,  0.0528,\n",
      "         0.0233,  0.0042,  0.0232, -0.0061,  0.0606,  0.0506,  0.0088,  0.0197,\n",
      "         0.0073,  0.0621,  0.1065,  0.0011,  0.0101,  0.0351,  0.0046, -0.0449,\n",
      "         0.0099, -0.0492,  0.0215,  0.0759,  0.0166,  0.0179,  0.0682,  0.0753,\n",
      "         0.0185, -0.0494, -0.0141,  0.1024,  0.0569, -0.0171,  0.0249,  0.0192,\n",
      "         0.0013,  0.0603,  0.0487,  0.0074, -0.0743,  0.1203,  0.0400,  0.0368,\n",
      "         0.0246,  0.0509, -0.0157,  0.0497,  0.0971, -0.0113,  0.0313,  0.0310,\n",
      "         0.0166, -0.0050,  0.0783,  0.0694, -0.0146,  0.0305, -0.0305,  0.0166,\n",
      "         0.0701,  0.0310, -0.0125, -0.0078,  0.0258,  0.0281, -0.0173,  0.0024,\n",
      "         0.0454, -0.0459,  0.0399, -0.0782,  0.0956, -0.0196,  0.0111,  0.0656,\n",
      "         0.0931,  0.0913,  0.0270, -0.0392, -0.0388,  0.1091,  0.0819,  0.0330,\n",
      "        -0.0172,  0.0015,  0.0879,  0.1048,  0.0325, -0.1085,  0.0563,  0.0143,\n",
      "         0.0606, -0.0139,  0.0794,  0.0531, -0.0642,  0.0621,  0.0065,  0.0114])), ('hidden_layers.2.weight', tensor([[ 0.0082, -0.0667,  0.0610,  ...,  0.0260, -0.0366, -0.0648],\n",
      "        [-0.0065, -0.0156,  0.0186,  ...,  0.0348,  0.0619,  0.0562],\n",
      "        [-0.0222,  0.0620, -0.0545,  ..., -0.0773, -0.0210,  0.0096],\n",
      "        ...,\n",
      "        [ 0.0262, -0.0933,  0.0067,  ..., -0.0359, -0.0213, -0.0228],\n",
      "        [-0.0251, -0.0335,  0.0191,  ...,  0.1135, -0.0244, -0.0081],\n",
      "        [-0.0326,  0.0643, -0.0675,  ...,  0.0401,  0.0610, -0.0316]])), ('hidden_layers.2.bias', tensor([ 1.7548e-01,  1.4783e-01,  9.8050e-02,  1.1803e-01,  1.7021e-01,\n",
      "        -1.0913e-02, -5.2218e-02,  1.0938e-01, -8.9967e-02, -5.8650e-02,\n",
      "        -7.6217e-02, -3.9852e-02,  8.2847e-02,  8.3934e-02, -4.5445e-02,\n",
      "         2.1908e-02,  1.6101e-02,  1.0037e-02,  9.8775e-03,  1.2326e-01,\n",
      "         1.2116e-01,  9.2232e-02,  7.7546e-02, -1.0574e-02,  1.8611e-02,\n",
      "         4.6503e-02,  1.1050e-01,  5.9154e-02,  1.3725e-02,  3.8542e-02,\n",
      "         1.4371e-02,  3.1765e-03,  5.3035e-02,  8.3023e-02,  1.1479e-01,\n",
      "         2.3993e-02,  5.9046e-02,  2.5666e-02, -8.2411e-02, -2.5665e-03,\n",
      "         9.8353e-02,  2.0027e-03,  1.8725e-02,  5.8046e-02,  9.5130e-02,\n",
      "        -2.8861e-02, -2.2202e-02,  1.3449e-02,  6.4380e-02,  1.6190e-01,\n",
      "         4.9061e-02,  7.7480e-02, -1.5281e-02,  8.1366e-02,  1.0073e-01,\n",
      "        -3.2599e-02,  5.4963e-02,  1.9173e-01, -7.7324e-03,  1.0946e-02,\n",
      "         3.9151e-02,  1.1546e-02,  1.2773e-01,  1.0507e-01,  1.3586e-01,\n",
      "         5.7404e-02, -2.1748e-02,  7.8011e-02,  2.3084e-02, -1.4859e-02,\n",
      "         1.1375e-02,  7.0303e-02,  1.0353e-01,  8.5898e-02,  1.4916e-01,\n",
      "         1.0051e-01,  1.2297e-01,  3.1823e-02,  9.6910e-02,  7.6914e-02,\n",
      "         1.2383e-01,  4.5835e-02, -6.1970e-03,  3.2208e-02,  9.5405e-02,\n",
      "         6.5089e-02,  6.9241e-05,  1.4375e-01, -3.0916e-02,  3.8423e-03,\n",
      "         1.4785e-01,  9.7475e-02,  8.5706e-02,  1.0942e-01,  1.5463e-02,\n",
      "         8.5654e-02,  7.6652e-02,  1.3314e-01,  4.2341e-02,  1.5217e-01,\n",
      "         6.7886e-02,  1.9901e-01,  3.1791e-02,  1.2802e-01, -5.7993e-02,\n",
      "         3.0399e-02,  5.4941e-02,  1.2501e-01,  8.1738e-02,  1.2685e-01,\n",
      "         2.5879e-02, -1.9708e-03,  6.0665e-02,  1.8668e-02,  1.0860e-01,\n",
      "         1.8419e-02,  6.1383e-02, -1.8855e-02,  1.1329e-01,  1.8759e-01,\n",
      "         4.7784e-02, -1.7828e-02,  1.3097e-01,  9.0210e-02,  1.0156e-01,\n",
      "         1.4584e-01,  9.2824e-02,  6.7861e-02])), ('output.weight', tensor([[-0.0066, -0.0683,  0.0307,  ..., -0.0414, -0.1368, -0.0051],\n",
      "        [-0.0033, -0.0363, -0.2273,  ..., -0.1069, -0.0930, -0.0532],\n",
      "        [ 0.0119, -0.0644, -0.0456,  ...,  0.0052,  0.0533, -0.0557],\n",
      "        ...,\n",
      "        [-0.3088,  0.0631,  0.0842,  ..., -0.2450,  0.0134,  0.0903],\n",
      "        [-0.1245,  0.0267,  0.0713,  ..., -0.1112, -0.0469,  0.0518],\n",
      "        [-0.2978, -0.0227,  0.0836,  ..., -0.1995,  0.0494,  0.0018]])), ('output.bias', tensor([ 0.0034, -0.2523, -0.0024,  0.1535,  0.0100,  0.0095,  0.0584, -0.0178,\n",
      "        -0.0370, -0.1035]))])\n"
     ]
    }
   ],
   "source": [
    "model.load_state_dict(state_dict)\n",
    "model.load_state_dict(my_state)\n",
    "print(model.state_dict())"
   ]
  },
  {
   "cell_type": "markdown",
   "metadata": {},
   "source": [
    "Seems pretty straightforward, but as usual it's a bit more complicated. Loading the state dict works only if the model architecture is exactly the same as the checkpoint architecture. If I create a model with a different architecture, this fails."
   ]
  },
  {
   "cell_type": "code",
   "execution_count": 13,
   "metadata": {},
   "outputs": [
    {
     "ename": "RuntimeError",
     "evalue": "Error(s) in loading state_dict for Network:\n\tsize mismatch for hidden_layers.0.bias: copying a param with shape torch.Size([512]) from checkpoint, the shape in current model is torch.Size([400]).\n\tsize mismatch for hidden_layers.0.weight: copying a param with shape torch.Size([512, 784]) from checkpoint, the shape in current model is torch.Size([400, 784]).\n\tsize mismatch for hidden_layers.1.bias: copying a param with shape torch.Size([256]) from checkpoint, the shape in current model is torch.Size([200]).\n\tsize mismatch for hidden_layers.1.weight: copying a param with shape torch.Size([256, 512]) from checkpoint, the shape in current model is torch.Size([200, 400]).\n\tsize mismatch for hidden_layers.2.bias: copying a param with shape torch.Size([128]) from checkpoint, the shape in current model is torch.Size([100]).\n\tsize mismatch for hidden_layers.2.weight: copying a param with shape torch.Size([128, 256]) from checkpoint, the shape in current model is torch.Size([100, 200]).\n\tsize mismatch for output.weight: copying a param with shape torch.Size([10, 128]) from checkpoint, the shape in current model is torch.Size([10, 100]).",
     "output_type": "error",
     "traceback": [
      "\u001b[0;31m---------------------------------------------------------------------------\u001b[0m",
      "\u001b[0;31mRuntimeError\u001b[0m                              Traceback (most recent call last)",
      "\u001b[0;32m<ipython-input-13-d859c59ebec0>\u001b[0m in \u001b[0;36m<module>\u001b[0;34m()\u001b[0m\n\u001b[1;32m      2\u001b[0m \u001b[0mmodel\u001b[0m \u001b[0;34m=\u001b[0m \u001b[0mfc_model\u001b[0m\u001b[0;34m.\u001b[0m\u001b[0mNetwork\u001b[0m\u001b[0;34m(\u001b[0m\u001b[0;36m784\u001b[0m\u001b[0;34m,\u001b[0m \u001b[0;36m10\u001b[0m\u001b[0;34m,\u001b[0m \u001b[0;34m[\u001b[0m\u001b[0;36m400\u001b[0m\u001b[0;34m,\u001b[0m \u001b[0;36m200\u001b[0m\u001b[0;34m,\u001b[0m \u001b[0;36m100\u001b[0m\u001b[0;34m]\u001b[0m\u001b[0;34m)\u001b[0m\u001b[0;34m\u001b[0m\u001b[0m\n\u001b[1;32m      3\u001b[0m \u001b[0;31m# This will throw an error because the tensor sizes are wrong!\u001b[0m\u001b[0;34m\u001b[0m\u001b[0;34m\u001b[0m\u001b[0m\n\u001b[0;32m----> 4\u001b[0;31m \u001b[0mmodel\u001b[0m\u001b[0;34m.\u001b[0m\u001b[0mload_state_dict\u001b[0m\u001b[0;34m(\u001b[0m\u001b[0mstate_dict\u001b[0m\u001b[0;34m)\u001b[0m\u001b[0;34m\u001b[0m\u001b[0m\n\u001b[0m",
      "\u001b[0;32m/Users/gkriston/anaconda2/envs/Udacity-Pytorch/lib/python2.7/site-packages/torch/nn/modules/module.pyc\u001b[0m in \u001b[0;36mload_state_dict\u001b[0;34m(self, state_dict, strict)\u001b[0m\n\u001b[1;32m    767\u001b[0m         \u001b[0;32mif\u001b[0m \u001b[0mlen\u001b[0m\u001b[0;34m(\u001b[0m\u001b[0merror_msgs\u001b[0m\u001b[0;34m)\u001b[0m \u001b[0;34m>\u001b[0m \u001b[0;36m0\u001b[0m\u001b[0;34m:\u001b[0m\u001b[0;34m\u001b[0m\u001b[0m\n\u001b[1;32m    768\u001b[0m             raise RuntimeError('Error(s) in loading state_dict for {}:\\n\\t{}'.format(\n\u001b[0;32m--> 769\u001b[0;31m                                self.__class__.__name__, \"\\n\\t\".join(error_msgs)))\n\u001b[0m\u001b[1;32m    770\u001b[0m \u001b[0;34m\u001b[0m\u001b[0m\n\u001b[1;32m    771\u001b[0m     \u001b[0;32mdef\u001b[0m \u001b[0m_named_members\u001b[0m\u001b[0;34m(\u001b[0m\u001b[0mself\u001b[0m\u001b[0;34m,\u001b[0m \u001b[0mget_members_fn\u001b[0m\u001b[0;34m,\u001b[0m \u001b[0mprefix\u001b[0m\u001b[0;34m=\u001b[0m\u001b[0;34m''\u001b[0m\u001b[0;34m,\u001b[0m \u001b[0mrecurse\u001b[0m\u001b[0;34m=\u001b[0m\u001b[0mTrue\u001b[0m\u001b[0;34m)\u001b[0m\u001b[0;34m:\u001b[0m\u001b[0;34m\u001b[0m\u001b[0m\n",
      "\u001b[0;31mRuntimeError\u001b[0m: Error(s) in loading state_dict for Network:\n\tsize mismatch for hidden_layers.0.bias: copying a param with shape torch.Size([512]) from checkpoint, the shape in current model is torch.Size([400]).\n\tsize mismatch for hidden_layers.0.weight: copying a param with shape torch.Size([512, 784]) from checkpoint, the shape in current model is torch.Size([400, 784]).\n\tsize mismatch for hidden_layers.1.bias: copying a param with shape torch.Size([256]) from checkpoint, the shape in current model is torch.Size([200]).\n\tsize mismatch for hidden_layers.1.weight: copying a param with shape torch.Size([256, 512]) from checkpoint, the shape in current model is torch.Size([200, 400]).\n\tsize mismatch for hidden_layers.2.bias: copying a param with shape torch.Size([128]) from checkpoint, the shape in current model is torch.Size([100]).\n\tsize mismatch for hidden_layers.2.weight: copying a param with shape torch.Size([128, 256]) from checkpoint, the shape in current model is torch.Size([100, 200]).\n\tsize mismatch for output.weight: copying a param with shape torch.Size([10, 128]) from checkpoint, the shape in current model is torch.Size([10, 100])."
     ]
    }
   ],
   "source": [
    "# Try this\n",
    "model = fc_model.Network(784, 10, [400, 200, 100])\n",
    "# This will throw an error because the tensor sizes are wrong!\n",
    "model.load_state_dict(state_dict)"
   ]
  },
  {
   "cell_type": "markdown",
   "metadata": {},
   "source": [
    "This means we need to rebuild the model exactly as it was when trained. Information about the model architecture needs to be saved in the checkpoint, along with the state dict. To do this, you build a dictionary with all the information you need to compeletely rebuild the model."
   ]
  },
  {
   "cell_type": "code",
   "execution_count": null,
   "metadata": {},
   "outputs": [],
   "source": [
    "checkpoint = {'input_size': 784,\n",
    "              'output_size': 10,\n",
    "              'hidden_layers': [each.out_features for each in model.hidden_layers],\n",
    "              'state_dict': model.state_dict()}\n",
    "\n",
    "torch.save(checkpoint, 'checkpoint.pth')\n",
    "my_checkpoint = {'input size':784,\n",
    "                'out'}"
   ]
  },
  {
   "cell_type": "markdown",
   "metadata": {},
   "source": [
    "Now the checkpoint has all the necessary information to rebuild the trained model. You can easily make that a function if you want. Similarly, we can write a function to load checkpoints. "
   ]
  },
  {
   "cell_type": "code",
   "execution_count": null,
   "metadata": {},
   "outputs": [],
   "source": [
    "def load_checkpoint(filepath):\n",
    "    checkpoint = torch.load(filepath)\n",
    "    model = fc_model.Network(checkpoint['input_size'],\n",
    "                             checkpoint['output_size'],\n",
    "                             checkpoint['hidden_layers'])\n",
    "    model.load_state_dict(checkpoint['state_dict'])\n",
    "    \n",
    "    return model"
   ]
  },
  {
   "cell_type": "code",
   "execution_count": null,
   "metadata": {},
   "outputs": [],
   "source": [
    "model = load_checkpoint('checkpoint.pth')\n",
    "print(model)"
   ]
  }
 ],
 "metadata": {
  "kernelspec": {
   "display_name": "Python 2",
   "language": "python",
   "name": "python2"
  },
  "language_info": {
   "codemirror_mode": {
    "name": "ipython",
    "version": 2
   },
   "file_extension": ".py",
   "mimetype": "text/x-python",
   "name": "python",
   "nbconvert_exporter": "python",
   "pygments_lexer": "ipython2",
   "version": "2.7.15"
  }
 },
 "nbformat": 4,
 "nbformat_minor": 2
}
