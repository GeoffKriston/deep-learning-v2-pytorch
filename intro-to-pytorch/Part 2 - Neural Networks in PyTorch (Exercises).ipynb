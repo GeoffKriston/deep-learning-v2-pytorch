{
 "cells": [
  {
   "cell_type": "markdown",
   "metadata": {},
   "source": [
    "# Neural networks with PyTorch\n",
    "\n",
    "Deep learning networks tend to be massive with dozens or hundreds of layers, that's where the term \"deep\" comes from. You can build one of these deep networks using only weight matrices as we did in the previous notebook, but in general it's very cumbersome and difficult to implement. PyTorch has a nice module `nn` that provides a nice way to efficiently build large neural networks."
   ]
  },
  {
   "cell_type": "code",
   "execution_count": 1,
   "metadata": {},
   "outputs": [],
   "source": [
    "# Import necessary packages\n",
    "\n",
    "%matplotlib inline\n",
    "%config InlineBackend.figure_format = 'retina'\n",
    "\n",
    "import numpy as np\n",
    "import torch\n",
    "\n",
    "import helper\n",
    "\n",
    "import matplotlib.pyplot as plt"
   ]
  },
  {
   "cell_type": "markdown",
   "metadata": {},
   "source": [
    "\n",
    "Now we're going to build a larger network that can solve a (formerly) difficult problem, identifying text in an image. Here we'll use the MNIST dataset which consists of greyscale handwritten digits. Each image is 28x28 pixels, you can see a sample below\n",
    "\n",
    "<img src='assets/mnist.png'>\n",
    "\n",
    "Our goal is to build a neural network that can take one of these images and predict the digit in the image.\n",
    "\n",
    "First up, we need to get our dataset. This is provided through the `torchvision` package. The code below will download the MNIST dataset, then create training and test datasets for us. Don't worry too much about the details here, you'll learn more about this later."
   ]
  },
  {
   "cell_type": "code",
   "execution_count": 32,
   "metadata": {},
   "outputs": [],
   "source": [
    "### Run this cell\n",
    "\n",
    "from torchvision import datasets, transforms\n",
    "\n",
    "# Define a transform to normalize the data\n",
    "transform = transforms.Compose([transforms.ToTensor(),\n",
    "                              transforms.Normalize((0.5,), (0.5,)),\n",
    "                              ])\n",
    "\n",
    "# Download and load the training data\n",
    "trainset = datasets.MNIST('~/.pytorch/MNIST_data/', download=True, train=True, transform=transform)\n",
    "trainloader = torch.utils.data.DataLoader(trainset, batch_size=64, shuffle=True)"
   ]
  },
  {
   "cell_type": "markdown",
   "metadata": {},
   "source": [
    "We have the training data loaded into `trainloader` and we make that an iterator with `iter(trainloader)`. Later, we'll use this to loop through the dataset for training, like\n",
    "\n",
    "```python\n",
    "for image, label in trainloader:\n",
    "    ## do things with images and labels\n",
    "```\n",
    "\n",
    "You'll notice I created the `trainloader` with a batch size of 64, and `shuffle=True`. The batch size is the number of images we get in one iteration from the data loader and pass through our network, often called a *batch*. And `shuffle=True` tells it to shuffle the dataset every time we start going through the data loader again. But here I'm just grabbing the first batch so we can check out the data. We can see below that `images` is just a tensor with size `(64, 1, 28, 28)`. So, 64 images per batch, 1 color channel, and 28x28 images."
   ]
  },
  {
   "cell_type": "code",
   "execution_count": 33,
   "metadata": {},
   "outputs": [
    {
     "name": "stdout",
     "output_type": "stream",
     "text": [
      "<class 'torch.Tensor'>\n",
      "torch.Size([64, 1, 28, 28])\n",
      "torch.Size([64])\n"
     ]
    }
   ],
   "source": [
    "dataiter = iter(trainloader)\n",
    "images, labels = dataiter.next()\n",
    "print(type(images))\n",
    "print(images.shape)\n",
    "print(labels.shape)"
   ]
  },
  {
   "cell_type": "markdown",
   "metadata": {},
   "source": [
    "This is what one of the images looks like. "
   ]
  },
  {
   "cell_type": "code",
   "execution_count": 34,
   "metadata": {},
   "outputs": [
    {
     "data": {
      "image/png": "[encoded data removed]",
      "text/plain": [
       "<Figure size 432x288 with 1 Axes>"
      ]
     },
     "metadata": {
      "image/png": {
       "height": 250,
       "width": 253
      },
      "needs_background": "light"
     },
     "output_type": "display_data"
    }
   ],
   "source": [
    "plt.imshow(images[1].numpy().squeeze(), cmap='Greys_r');"
   ]
  },
  {
   "cell_type": "markdown",
   "metadata": {},
   "source": [
    "First, let's try to build a simple network for this dataset using weight matrices and matrix multiplications. Then, we'll see how to do it using PyTorch's `nn` module which provides a much more convenient and powerful method for defining network architectures.\n",
    "\n",
    "The networks you've seen so far are called *fully-connected* or *dense* networks. Each unit in one layer is connected to each unit in the next layer. In fully-connected networks, the input to each layer must be a one-dimensional vector (which can be stacked into a 2D tensor as a batch of multiple examples). However, our images are 28x28 2D tensors, so we need to convert them into 1D vectors. Thinking about sizes, we need to convert the batch of images with shape `(64, 1, 28, 28)` to a have a shape of `(64, 784)`, 784 is 28 times 28. This is typically called *flattening*, we flattened the 2D images into 1D vectors.\n",
    "\n",
    "Previously you built a network with one output unit. Here we need 10 output units, one for each digit. We want our network to predict the digit shown in an image, so what we'll do is calculate probabilities that the image is of any one digit or class. This ends up being a discrete probability distribution over the classes (digits) that tells us the most likely class for the image. That means we need 10 output units for the 10 classes (digits). We'll see how to convert the network output into a probability distribution next.\n",
    "\n",
    "> **Exercise:** Flatten the batch of images `images`. Then build a multi-layer network with 784 input units, 256 hidden units, and 10 output units using random tensors for the weights and biases. For now, use a sigmoid activation for the hidden layer. Leave the output layer without an activation, we'll add one that gives us a probability distribution next."
   ]
  },
  {
   "cell_type": "code",
   "execution_count": 37,
   "metadata": {},
   "outputs": [
    {
     "name": "stdout",
     "output_type": "stream",
     "text": [
      "tensor([[-2.3920e+01,  1.6727e+01,  6.6429e+00, -2.1800e+01, -1.3606e+01,\n",
      "          3.8119e+00, -2.8344e+00,  4.2748e+00, -4.8123e+00,  1.6761e+01],\n",
      "        [-2.1287e+01,  2.7401e+01, -5.8346e+00, -1.7874e+01, -8.7047e+00,\n",
      "         -2.9516e-02, -1.4916e+00, -3.4360e-01, -1.5328e+01,  1.8379e+01],\n",
      "        [-2.9231e+01,  3.5007e+00,  3.8101e+00, -2.5452e+01, -6.5429e-01,\n",
      "          1.3286e+00, -8.2892e+00,  2.8638e+00, -8.7171e+00,  5.9367e+00],\n",
      "        [-2.4587e+01,  1.4041e+01,  6.0603e+00, -2.1105e+01, -3.0559e+00,\n",
      "         -3.0545e+00, -1.1305e-01,  3.8552e+00, -5.6021e+00, -2.5118e+00],\n",
      "        [-1.8377e+01,  2.2809e+01, -2.5936e+00, -2.5422e+01, -1.7659e+01,\n",
      "          1.9267e+01,  2.3305e+00, -6.5966e+00, -1.8887e+01,  4.6646e+00],\n",
      "        [-1.6396e+01,  1.9199e+01, -2.0088e+00, -2.2634e+01, -8.6697e+00,\n",
      "          1.3784e+01, -6.8180e-01,  2.3477e+00, -1.0424e+01,  5.7694e+00],\n",
      "        [-2.7384e+01,  1.7780e+01, -6.9141e+00, -3.1646e+01, -8.1544e-01,\n",
      "          5.6413e+00,  1.7522e+00,  2.4486e+00, -2.3472e+00,  1.1283e+01],\n",
      "        [-1.7783e+01,  2.1773e+01,  2.8241e+00, -2.7082e+01, -1.0259e+01,\n",
      "          5.6999e+00, -1.5266e+00, -3.3663e+00, -6.1882e+00,  4.0840e+00],\n",
      "        [-1.7396e+01,  1.8115e+01,  7.6811e+00, -2.5513e+01,  4.8668e+00,\n",
      "          1.1369e+00, -4.2927e+00, -5.0194e+00, -1.3168e+01,  7.9055e+00],\n",
      "        [-3.2441e+01,  1.3582e+01, -1.4032e+00, -2.9048e+01, -9.6729e+00,\n",
      "          2.6556e+00, -7.1328e+00, -2.3165e-01, -6.3789e+00,  1.0450e+01],\n",
      "        [-3.0201e+01,  1.6853e+01,  5.5301e+00, -2.2752e+01,  4.5712e+00,\n",
      "          3.3249e+00, -3.1057e+00,  1.6924e+00, -5.3439e+00,  1.1679e+00],\n",
      "        [-3.4302e+01,  1.9551e+00,  7.3206e+00, -1.8440e+01, -3.8993e+00,\n",
      "          8.0423e+00, -2.2967e+00, -1.0192e+00, -1.5176e+01,  1.7006e+01],\n",
      "        [-1.8297e+01,  1.9897e+01,  5.4818e+00, -1.9974e+01,  1.6814e+00,\n",
      "          7.1329e+00, -9.8399e-01, -2.5357e-01, -1.3245e+01,  1.6676e-01],\n",
      "        [-2.4027e+01,  1.7509e+01,  4.9776e+00, -2.4928e+01,  2.5227e+00,\n",
      "          6.3603e+00, -3.4397e+00, -2.3385e+00, -6.7100e+00,  5.0788e+00],\n",
      "        [-1.8532e+01,  1.5479e+01, -1.7981e+00, -2.1748e+01, -4.6004e+00,\n",
      "         -1.5272e+00,  8.1230e-02, -3.1908e+00, -3.2374e+00,  1.2127e+01],\n",
      "        [-1.9682e+01,  2.0404e+01, -1.8627e+00, -3.1923e+01, -1.6326e+01,\n",
      "          5.2416e+00, -2.3953e+00, -3.2558e+00, -1.7254e+01,  1.9706e+00],\n",
      "        [-2.3805e+01,  1.7287e+01,  6.4910e+00, -2.2859e+01,  7.6061e+00,\n",
      "         -6.9798e+00,  4.8306e+00,  1.7196e+00, -3.0771e+00,  5.4907e+00],\n",
      "        [-2.3813e+01,  1.8271e+01,  3.6709e+00, -1.7460e+01, -1.8602e+00,\n",
      "         -3.0055e+00, -1.1073e+01,  4.7541e+00,  2.4841e-01,  8.1373e+00],\n",
      "        [-3.2937e+01,  1.6412e+01,  1.4905e+01, -2.2257e+01, -4.3907e+00,\n",
      "         -4.0740e+00,  2.2806e+00, -6.4702e+00, -9.4078e+00,  8.0929e+00],\n",
      "        [-2.3003e+01,  1.4668e+01,  3.7500e+00, -1.6691e+01,  5.3955e-01,\n",
      "         -8.1045e+00, -1.4514e+00,  1.0665e+00, -4.5088e+00, -1.8706e+00],\n",
      "        [-2.0702e+01,  2.3093e+01,  6.2561e+00, -1.9292e+01, -1.7319e+01,\n",
      "         -3.1980e+00,  3.2041e+00, -1.1709e+00, -1.0176e+01,  1.0894e+01],\n",
      "        [-3.1590e+01,  1.8023e+01, -2.0521e+00, -2.5440e+01, -2.7942e+00,\n",
      "         -9.2842e-01, -3.9010e+00,  2.6778e+00,  5.7767e-01,  9.5993e+00],\n",
      "        [-3.2270e+01,  1.6681e+01,  5.9626e-01, -2.6891e+01, -4.5975e-01,\n",
      "          4.2777e+00, -1.1124e+01, -5.7403e+00, -7.3005e+00,  5.0293e+00],\n",
      "        [-2.2920e+01,  1.6991e+01,  1.0865e+01, -2.4334e+01, -1.2469e+01,\n",
      "         -4.1614e-01, -6.9687e+00,  2.7568e+00, -7.9054e+00,  2.2274e+00],\n",
      "        [-2.7071e+01,  1.8297e+01, -3.1039e+00, -2.1209e+01, -6.8071e+00,\n",
      "         -4.0185e-01, -7.8080e+00, -1.0532e+00, -6.2675e+00,  2.4857e+00],\n",
      "        [-1.8051e+01,  1.6359e+01, -3.3607e+00, -2.6046e+01,  6.1162e+00,\n",
      "         -1.5612e+01, -5.0059e+00,  8.3389e+00,  8.3022e-01, -2.7776e+00],\n",
      "        [-2.3773e+01,  2.5503e+01,  8.9632e+00, -2.4979e+01, -1.9387e+01,\n",
      "          8.5290e+00, -3.5455e-01,  8.1967e+00, -7.8873e+00,  6.2422e+00],\n",
      "        [-2.4148e+01,  2.0710e+01, -6.3341e+00, -2.1650e+01, -5.9442e+00,\n",
      "          8.7416e+00, -7.7166e+00, -4.1254e+00, -1.4743e+01,  3.8480e+00],\n",
      "        [-2.5332e+01,  1.6771e+01,  8.6630e+00, -2.3138e+01,  5.7977e+00,\n",
      "         -7.7338e+00, -9.2264e+00,  2.8158e+00, -7.4755e+00, -7.1086e+00],\n",
      "        [-2.7362e+01,  1.2588e+01,  2.9699e+00, -2.5867e+01, -6.1600e+00,\n",
      "          6.1500e+00, -1.0350e+01,  2.5021e+00, -8.1008e+00,  8.9725e+00],\n",
      "        [-2.2711e+01,  1.7088e+01, -3.3715e-01, -2.0746e+01,  8.9757e+00,\n",
      "         -8.8209e+00, -3.5673e+00,  2.3157e+00, -6.7283e+00, -3.8106e+00],\n",
      "        [-2.5074e+01,  1.6025e+01,  1.0307e+00, -2.9087e+01,  8.6241e-01,\n",
      "          1.9029e+00, -6.4607e-02,  3.1399e+00,  1.4893e+00,  2.2158e+00],\n",
      "        [-2.2518e+01,  1.0034e+01,  1.2120e+00, -2.2008e+01, -1.9175e+01,\n",
      "          8.0260e+00,  3.7409e+00, -1.8598e+00, -8.8760e+00, -5.1992e-01],\n",
      "        [-3.9035e+01,  1.6789e+01,  7.0903e+00, -2.5433e+01, -5.1036e+00,\n",
      "          8.4152e+00, -1.4917e+00, -8.7688e+00, -8.9184e+00,  1.1890e+01],\n",
      "        [-2.1740e+01,  2.2378e+01,  9.8419e+00, -2.2058e+01, -1.3829e+01,\n",
      "          1.9540e+01,  3.5855e+00, -1.2602e+01, -1.6117e+01,  2.6669e+01],\n",
      "        [-2.9877e+01,  1.4531e+01, -5.8535e+00, -2.6545e+01, -1.0192e+01,\n",
      "          1.1186e+01, -6.4479e+00, -3.2416e+00, -1.5004e+01,  1.1000e+01],\n",
      "        [-2.2533e+01,  2.0251e+01, -2.4324e+00, -2.5828e+01,  7.5449e+00,\n",
      "         -7.3377e-01, -5.2597e+00,  3.3707e+00, -2.2980e+00,  1.3187e+00],\n",
      "        [-2.7416e+01,  1.9209e+01,  4.5017e+00, -2.4853e+01, -1.0530e+01,\n",
      "          5.6181e+00, -2.5718e-01, -9.1748e+00, -1.3573e+01,  7.2749e+00],\n",
      "        [-3.8696e+01,  2.1802e+01,  6.2879e+00, -2.3794e+01, -9.6184e+00,\n",
      "         -1.5315e+00, -4.9322e+00, -8.4411e+00, -7.3481e+00,  3.6332e+00],\n",
      "        [-2.8078e+01,  1.9062e+01,  3.3052e+00, -2.7237e+01,  8.8397e-01,\n",
      "          2.0027e+00, -3.6063e+00, -2.3296e+00, -1.4767e+01, -1.4633e+00],\n",
      "        [-2.3088e+01,  2.6134e+01,  1.2347e+01, -1.9537e+01, -1.0619e+01,\n",
      "          8.6650e+00,  2.7701e+00, -5.5082e+00, -1.5571e+01,  6.6896e+00],\n",
      "        [-2.5536e+01,  2.2525e+01, -6.9949e+00, -2.0510e+01, -2.0713e-01,\n",
      "          7.1900e+00,  1.1036e+00, -1.7044e+00, -1.3759e+01, -3.1187e+00],\n",
      "        [-1.3401e+01,  1.4144e+01,  1.0303e+01, -2.1530e+01, -2.0804e+00,\n",
      "          7.9768e+00,  2.2085e+00, -6.6611e+00, -1.2758e+01,  1.4713e+01],\n",
      "        [-2.5929e+01,  1.1693e+01,  9.5038e+00, -2.0781e+01, -1.3104e+01,\n",
      "         -3.4734e+00, -9.8576e-01, -2.6663e+00, -5.2907e+00,  5.6690e+00],\n",
      "        [-2.2133e+01,  2.6490e+01,  1.9268e+00, -2.2479e+01, -1.4935e+01,\n",
      "          6.9537e+00, -1.5999e+00, -1.0999e+00, -8.5950e+00, -2.2219e+00],\n",
      "        [-2.3374e+01,  1.1608e+01,  1.1500e+01, -2.5516e+01,  3.7998e+00,\n",
      "          6.7533e+00,  2.6664e+00, -4.8121e+00, -5.1403e+00,  5.3675e+00],\n",
      "        [-3.2288e+01,  1.4974e+01,  4.6097e+00, -2.5397e+01, -5.7336e+00,\n",
      "         -3.7017e+00, -2.9436e+00, -4.1115e+00, -4.2514e+00, -3.8856e-01],\n",
      "        [-2.4689e+01,  2.1234e+01,  7.3109e+00, -2.3881e+01, -5.8788e+00,\n",
      "          1.0835e+01,  5.7164e+00, -7.2935e+00, -5.7804e+00,  4.9023e+00],\n",
      "        [-2.5701e+01,  2.0365e+01,  3.1528e+00, -2.4139e+01,  1.2109e+01,\n",
      "         -1.9471e+00, -8.4046e-01,  2.8274e+00, -8.6040e+00, -6.0616e+00],\n",
      "        [-3.1378e+01,  2.3545e+01, -2.7147e+00, -2.2696e+01,  4.8525e+00,\n",
      "         -8.1777e-01, -8.0718e-01, -8.1233e+00, -9.3048e+00,  3.3419e+00],\n",
      "        [-2.5470e+01,  2.4824e+01, -6.9886e+00, -2.7080e+01, -5.7353e-01,\n",
      "         -1.0067e+00,  1.0191e+00, -7.3393e-01, -9.1638e+00,  9.9877e+00],\n",
      "        [-2.0867e+01,  3.2505e+01, -4.6061e-01, -3.1777e+01, -1.0501e+01,\n",
      "          5.4719e+00, -3.1650e+00, -4.4462e-01, -5.4113e+00,  6.0195e+00],\n",
      "        [-2.6985e+01,  1.7297e+01,  1.1531e+01, -1.7231e+01, -9.3323e+00,\n",
      "          3.5480e+00,  1.2580e+00, -6.3630e+00, -1.7287e+01,  9.4327e+00],\n",
      "        [-2.2915e+01,  1.4840e+01,  1.8581e+00, -2.1581e+01,  5.0905e+00,\n",
      "          3.4191e+00, -5.4082e+00, -3.1174e+00, -7.2587e+00,  4.4500e-01],\n",
      "        [-2.5584e+01,  2.3619e+01,  3.4819e+00, -2.1549e+01, -6.3773e+00,\n",
      "          3.5720e+00, -6.1260e+00, -7.6676e+00, -1.0453e+01,  1.2875e+00],\n",
      "        [-2.4695e+01,  1.6156e+01,  1.2406e+01, -9.9895e+00,  1.3668e+00,\n",
      "          7.4856e+00, -2.8233e+00, -7.6765e+00, -8.1309e+00,  1.7437e+01],\n",
      "        [-2.9886e+01,  1.7744e+01, -4.2139e-01, -2.3099e+01,  5.6006e+00,\n",
      "         -5.1597e+00, -7.0260e+00,  2.3053e+00, -5.3839e+00,  6.1538e+00],\n",
      "        [-2.7209e+01,  2.3333e+01,  1.1423e+01, -2.6720e+01, -8.3347e+00,\n",
      "          4.4432e+00, -3.3903e+00,  4.5985e+00, -1.0132e+01,  1.9595e+01],\n",
      "        [-2.3130e+01,  9.4007e+00,  2.8790e+00, -2.5883e+01,  6.8905e-01,\n",
      "          4.3962e+00, -6.7343e-01, -4.1444e-01, -1.4046e+01,  1.2591e+01],\n",
      "        [-1.9260e+01,  2.6284e+01,  9.3955e+00, -2.5860e+01, -1.0279e+01,\n",
      "          2.5241e+00,  7.5836e-01, -6.3447e+00, -9.6960e+00,  6.5201e+00],\n",
      "        [-2.6453e+01,  1.9629e+01,  4.6563e+00, -1.6553e+01, -6.2923e+00,\n",
      "          8.5454e+00, -1.2330e-01, -7.7475e+00, -4.1541e+00, -2.5156e+00],\n",
      "        [-2.4671e+01,  2.3694e+01,  2.5488e-01, -2.3111e+01, -5.1489e+00,\n",
      "          9.7078e+00, -3.6636e+00, -6.1334e+00, -1.1496e+01,  1.9967e+00],\n",
      "        [-2.2605e+01,  2.0593e+01,  1.6988e+01, -1.8025e+01, -1.1339e+01,\n",
      "          7.2250e+00,  5.3155e+00, -1.1474e+01, -1.6058e+01,  1.7620e+01],\n",
      "        [-1.9256e+01,  2.5458e+01,  4.1709e+00, -1.9391e+01,  2.6444e+00,\n",
      "          6.5766e-01, -2.7719e+00,  2.2877e+00, -9.9101e+00, -9.9961e+00]])\n"
     ]
    }
   ],
   "source": [
    "## Your solution\n",
    "def activation(x):\n",
    "    return 1/(1+torch.exp(-x))\n",
    "def score(weight,feature,bias):\n",
    "    return torch.mm(feature,weight)+bias\n",
    "def feedforward(weight,feature,bias):\n",
    "    return activation(score(weight,feature,bias))\n",
    "n_input=784\n",
    "n_hidden=256\n",
    "n_output=10\n",
    "input = images.view(images.shape[0],n_input)\n",
    "W1=torch.randn((n_input,n_hidden))\n",
    "B1=torch.randn(n_hidden)\n",
    "W2=torch.randn((n_hidden,n_output))\n",
    "B2=torch.randn(n_output)\n",
    "hidden = feedforward(W1,input,B1)\n",
    "# output of your network, should have shape (64,10)\n",
    "out = score(W2,hidden,B2)\n",
    "print out"
   ]
  },
  {
   "cell_type": "markdown",
   "metadata": {},
   "source": [
    "Now we have 10 outputs for our network. We want to pass in an image to our network and get out a probability distribution over the classes that tells us the likely class(es) the image belongs to. Something that looks like this:\n",
    "<img src='assets/image_distribution.png' width=500px>\n",
    "\n",
    "Here we see that the probability for each class is roughly the same. This is representing an untrained network, it hasn't seen any data yet so it just returns a uniform distribution with equal probabilities for each class.\n",
    "\n",
    "To calculate this probability distribution, we often use the [**softmax** function](https://en.wikipedia.org/wiki/Softmax_function). Mathematically this looks like\n",
    "\n",
    "$$\n",
    "\\Large \\sigma(x_i) = \\cfrac{e^{x_i}}{\\sum_k^K{e^{x_k}}}\n",
    "$$\n",
    "\n",
    "What this does is squish each input $x_i$ between 0 and 1 and normalizes the values to give you a proper probability distribution where the probabilites sum up to one.\n",
    "\n",
    "> **Exercise:** Implement a function `softmax` that performs the softmax calculation and returns probability distributions for each example in the batch. Note that you'll need to pay attention to the shapes when doing this. If you have a tensor `a` with shape `(64, 10)` and a tensor `b` with shape `(64,)`, doing `a/b` will give you an error because PyTorch will try to do the division across the columns (called broadcasting) but you'll get a size mismatch. The way to think about this is for each of the 64 examples, you only want to divide by one value, the sum in the denominator. So you need `b` to have a shape of `(64, 1)`. This way PyTorch will divide the 10 values in each row of `a` by the one value in each row of `b`. Pay attention to how you take the sum as well. You'll need to define the `dim` keyword in `torch.sum`. Setting `dim=0` takes the sum across the rows while `dim=1` takes the sum across the columns."
   ]
  },
  {
   "cell_type": "code",
   "execution_count": 42,
   "metadata": {},
   "outputs": [
    {
     "name": "stdout",
     "output_type": "stream",
     "text": [
      "torch.Size([64, 10])\n",
      "tensor([1.0000, 1.0000, 1.0000, 1.0000, 1.0000, 1.0000, 1.0000, 1.0000, 1.0000,\n",
      "        1.0000, 1.0000, 1.0000, 1.0000, 1.0000, 1.0000, 1.0000, 1.0000, 1.0000,\n",
      "        1.0000, 1.0000, 1.0000, 1.0000, 1.0000, 1.0000, 1.0000, 1.0000, 1.0000,\n",
      "        1.0000, 1.0000, 1.0000, 1.0000, 1.0000, 1.0000, 1.0000, 1.0000, 1.0000,\n",
      "        1.0000, 1.0000, 1.0000, 1.0000, 1.0000, 1.0000, 1.0000, 1.0000, 1.0000,\n",
      "        1.0000, 1.0000, 1.0000, 1.0000, 1.0000, 1.0000, 1.0000, 1.0000, 1.0000,\n",
      "        1.0000, 1.0000, 1.0000, 1.0000, 1.0000, 1.0000, 1.0000, 1.0000, 1.0000,\n",
      "        1.0000])\n"
     ]
    }
   ],
   "source": [
    "def softmax(x):\n",
    "    ## TODO: Implement the softmax function here\n",
    "    b = torch.sum(torch.exp(x),dim=1)\n",
    "    return torch.exp(x)/b.view(x.shape[0],1)\n",
    "# Here, out should be the output of the network in the previous excercise with shape (64,10)\n",
    "probabilities = softmax(out)\n",
    "\n",
    "# Does it have the right shape? Should be (64, 10)\n",
    "print(probabilities.shape)\n",
    "# Does it sum to 1?\n",
    "print(probabilities.sum(dim=1))\n"
   ]
  },
  {
   "cell_type": "markdown",
   "metadata": {},
   "source": [
    "## Building networks with PyTorch\n",
    "\n",
    "PyTorch provides a module `nn` that makes building networks much simpler. Here I'll show you how to build the same one as above with 784 inputs, 256 hidden units, 10 output units and a softmax output."
   ]
  },
  {
   "cell_type": "code",
   "execution_count": 47,
   "metadata": {},
   "outputs": [],
   "source": [
    "from torch import nn"
   ]
  },
  {
   "cell_type": "code",
   "execution_count": 52,
   "metadata": {},
   "outputs": [],
   "source": [
    "class Network(nn.Module):\n",
    "    def __init__(self):\n",
    "        super(Network, self).__init__()\n",
    "        \n",
    "        # Inputs to hidden layer linear transformation\n",
    "        self.hidden = nn.Linear(784, 256)\n",
    "        # Output layer, 10 units - one for each digit\n",
    "        self.output = nn.Linear(256, 10)\n",
    "        \n",
    "        # Define sigmoid activation and softmax output \n",
    "        self.sigmoid = nn.Sigmoid()\n",
    "        self.softmax = nn.Softmax(dim=1)\n",
    "        \n",
    "    def forward(self, x):\n",
    "        # Pass the input tensor through each of our operations\n",
    "        x = self.hidden(x)\n",
    "        x = self.sigmoid(x)\n",
    "        x = self.output(x)\n",
    "        x = self.softmax(x)\n",
    "        \n",
    "        return x"
   ]
  },
  {
   "cell_type": "markdown",
   "metadata": {},
   "source": [
    "Let's go through this bit by bit.\n",
    "\n",
    "```python\n",
    "class Network(nn.Module):\n",
    "```\n",
    "\n",
    "Here we're inheriting from `nn.Module`. Combined with `super().__init__()` this creates a class that tracks the architecture and provides a lot of useful methods and attributes. It is mandatory to inherit from `nn.Module` when you're creating a class for your network. The name of the class itself can be anything.\n",
    "\n",
    "```python\n",
    "self.hidden = nn.Linear(784, 256)\n",
    "```\n",
    "\n",
    "This line creates a module for a linear transformation, $x\\mathbf{W} + b$, with 784 inputs and 256 outputs and assigns it to `self.hidden`. The module automatically creates the weight and bias tensors which we'll use in the `forward` method. You can access the weight and bias tensors once the network (`net`) is created with `net.hidden.weight` and `net.hidden.bias`.\n",
    "\n",
    "```python\n",
    "self.output = nn.Linear(256, 10)\n",
    "```\n",
    "\n",
    "Similarly, this creates another linear transformation with 256 inputs and 10 outputs.\n",
    "\n",
    "```python\n",
    "self.sigmoid = nn.Sigmoid()\n",
    "self.softmax = nn.Softmax(dim=1)\n",
    "```\n",
    "\n",
    "Here I defined operations for the sigmoid activation and softmax output. Setting `dim=1` in `nn.Softmax(dim=1)` calculates softmax across the columns.\n",
    "\n",
    "```python\n",
    "def forward(self, x):\n",
    "```\n",
    "\n",
    "PyTorch networks created with `nn.Module` must have a `forward` method defined. It takes in a tensor `x` and passes it through the operations you defined in the `__init__` method.\n",
    "\n",
    "```python\n",
    "x = self.hidden(x)\n",
    "x = self.sigmoid(x)\n",
    "x = self.output(x)\n",
    "x = self.softmax(x)\n",
    "```\n",
    "\n",
    "Here the input tensor `x` is passed through each operation and reassigned to `x`. We can see that the input tensor goes through the hidden layer, then a sigmoid function, then the output layer, and finally the softmax function. It doesn't matter what you name the variables here, as long as the inputs and outputs of the operations match the network architecture you want to build. The order in which you define things in the `__init__` method doesn't matter, but you'll need to sequence the operations correctly in the `forward` method.\n",
    "\n",
    "Now we can create a `Network` object."
   ]
  },
  {
   "cell_type": "code",
   "execution_count": 53,
   "metadata": {},
   "outputs": [
    {
     "data": {
      "text/plain": [
       "Network(\n",
       "  (hidden): Linear(in_features=784, out_features=256, bias=True)\n",
       "  (output): Linear(in_features=256, out_features=10, bias=True)\n",
       "  (sigmoid): Sigmoid()\n",
       "  (softmax): Softmax()\n",
       ")"
      ]
     },
     "execution_count": 53,
     "metadata": {},
     "output_type": "execute_result"
    }
   ],
   "source": [
    "# Create the network and look at it's text representation\n",
    "model = Network()\n",
    "model"
   ]
  },
  {
   "cell_type": "markdown",
   "metadata": {},
   "source": [
    "You can define the network somewhat more concisely and clearly using the `torch.nn.functional` module. This is the most common way you'll see networks defined as many operations are simple element-wise functions. We normally import this module as `F`, `import torch.nn.functional as F`."
   ]
  },
  {
   "cell_type": "code",
   "execution_count": 55,
   "metadata": {},
   "outputs": [],
   "source": [
    "import torch.nn.functional as F\n",
    "\n",
    "class Network(nn.Module):\n",
    "    def __init__(self):\n",
    "        super().__init__()\n",
    "        # Inputs to hidden layer linear transformation\n",
    "        self.hidden = nn.Linear(784, 256)\n",
    "        # Output layer, 10 units - one for each digit\n",
    "        self.output = nn.Linear(256, 10)\n",
    "        \n",
    "    def forward(self, x):\n",
    "        # Hidden layer with sigmoid activation\n",
    "        x = F.sigmoid(self.hidden(x))\n",
    "        # Output layer with softmax activation\n",
    "        x = F.softmax(self.output(x), dim=1)\n",
    "        \n",
    "        return x"
   ]
  },
  {
   "cell_type": "markdown",
   "metadata": {},
   "source": [
    "### Activation functions\n",
    "\n",
    "So far we've only been looking at the sigmoid activation function, but in general any function can be used as an activation function. The only requirement is that for a network to approximate a non-linear function, the activation functions must be non-linear. Here are a few more examples of common activation functions: Tanh (hyperbolic tangent), and ReLU (rectified linear unit).\n",
    "\n",
    "<img src=\"assets/activation.png\" width=700px>\n",
    "\n",
    "In practice, the ReLU function is used almost exclusively as the activation function for hidden layers."
   ]
  },
  {
   "cell_type": "markdown",
   "metadata": {},
   "source": [
    "### Your Turn to Build a Network\n",
    "\n",
    "<img src=\"assets/mlp_mnist.png\" width=600px>\n",
    "\n",
    "> **Exercise:** Create a network with 784 input units, a hidden layer with 128 units and a ReLU activation, then a hidden layer with 64 units and a ReLU activation, and finally an output layer with a softmax activation as shown above. You can use a ReLU activation with the `nn.ReLU` module or `F.relu` function.\n",
    "\n",
    "It's good practice to name your layers by their type of network, for instance 'fc' to represent a fully-connected layer. As you code your solution, use `fc1`, `fc2`, and `fc3` as your layer names."
   ]
  },
  {
   "cell_type": "code",
   "execution_count": 64,
   "metadata": {
    "scrolled": true
   },
   "outputs": [],
   "source": [
    "## Your solution here\n",
    "class Network(nn.Module):\n",
    "    def __init__(self):\n",
    "        super(Network,self).__init__()\n",
    "        self.fc1 = nn.Linear(784,128)\n",
    "        self.fc2 = nn.Linear(128,64)\n",
    "        self.fc3 = nn.Linear(64,10)\n",
    "    def forward(self, x):\n",
    "        x = F.relu(self.fc1(x))\n",
    "        x = F.relu(self.fc2(x))\n",
    "        x = F.softmax(self.fc3(x), dim=1)\n",
    "        return x"
   ]
  },
  {
   "cell_type": "markdown",
   "metadata": {},
   "source": [
    "### Initializing weights and biases\n",
    "\n",
    "The weights and such are automatically initialized for you, but it's possible to customize how they are initialized. The weights and biases are tensors attached to the layer you defined, you can get them with `model.fc1.weight` for instance."
   ]
  },
  {
   "cell_type": "code",
   "execution_count": 65,
   "metadata": {},
   "outputs": [
    {
     "name": "stdout",
     "output_type": "stream",
     "text": [
      "Parameter containing:\n",
      "tensor([[-0.0222, -0.0350,  0.0189,  ...,  0.0201,  0.0162,  0.0211],\n",
      "        [-0.0174,  0.0353,  0.0326,  ..., -0.0119, -0.0198, -0.0075],\n",
      "        [ 0.0343,  0.0162, -0.0235,  ..., -0.0337,  0.0121, -0.0353],\n",
      "        ...,\n",
      "        [-0.0300,  0.0254, -0.0032,  ..., -0.0296,  0.0245,  0.0086],\n",
      "        [-0.0218,  0.0245,  0.0217,  ...,  0.0035,  0.0294, -0.0182],\n",
      "        [-0.0065, -0.0090,  0.0202,  ...,  0.0190,  0.0341, -0.0171]],\n",
      "       requires_grad=True)\n",
      "Parameter containing:\n",
      "tensor([ 1.3546e-02, -9.6604e-03, -7.1353e-03, -1.3203e-02, -2.2862e-02,\n",
      "         1.9046e-02,  1.1615e-02,  1.3174e-02,  5.3458e-06,  1.9484e-02,\n",
      "        -9.9305e-03,  1.5362e-02, -2.1562e-02,  2.5040e-02, -2.7206e-02,\n",
      "        -9.6583e-03,  1.6266e-03,  1.5882e-02,  1.1824e-02,  1.0032e-04,\n",
      "         1.9689e-02, -1.0252e-02, -1.4115e-02,  3.1181e-02,  1.9514e-02,\n",
      "         9.0176e-03, -2.6050e-02,  1.1921e-02, -2.8852e-02, -1.2525e-02,\n",
      "        -2.2990e-02,  1.6774e-02,  2.9417e-02,  1.9691e-03,  1.1733e-02,\n",
      "        -9.9750e-03,  2.6864e-02, -1.9282e-03,  2.1799e-02,  2.2274e-02,\n",
      "        -5.8270e-03,  3.0238e-02, -1.2952e-02, -5.9346e-03, -2.4266e-02,\n",
      "        -3.3290e-02,  2.5438e-02, -1.5484e-02, -7.7467e-03,  3.4312e-02,\n",
      "        -4.5975e-03, -7.2566e-03, -2.3882e-02,  4.3403e-03, -2.0326e-02,\n",
      "        -1.5227e-02,  5.2628e-03,  1.7249e-02, -3.5613e-03, -1.6578e-02,\n",
      "         2.5717e-02,  1.4539e-02,  1.7206e-02, -2.6161e-02, -1.6917e-02,\n",
      "        -1.8352e-02, -2.9131e-02, -5.8959e-03, -3.2333e-02, -3.1896e-02,\n",
      "        -5.7410e-03,  3.6606e-03,  3.3155e-02, -2.0717e-03,  2.9956e-02,\n",
      "         8.5545e-03, -1.9176e-02,  3.2941e-02,  6.0092e-03, -2.0159e-02,\n",
      "        -3.2132e-02, -9.8446e-03, -2.5884e-02, -1.6740e-02,  2.6456e-02,\n",
      "        -1.5837e-02,  2.4902e-02,  1.9839e-02, -1.1538e-02, -1.2954e-02,\n",
      "         1.8183e-02,  6.2852e-03, -2.9902e-02,  1.6366e-03, -6.0107e-03,\n",
      "        -2.0115e-02, -1.0251e-02, -4.6211e-03, -1.2087e-02, -3.2591e-02,\n",
      "         1.9518e-02, -2.6203e-02, -2.9356e-02, -3.1709e-02,  1.0781e-03,\n",
      "        -5.9008e-04, -3.4268e-03, -1.3052e-02, -1.4813e-02,  2.7282e-02,\n",
      "         1.7381e-02,  7.4031e-03, -3.2069e-02, -2.1344e-02,  3.1358e-02,\n",
      "         2.4142e-02, -2.9864e-02,  2.7578e-02,  1.8014e-02,  3.1041e-03,\n",
      "         1.2265e-02,  5.5506e-03,  3.5102e-02,  2.5758e-02,  1.0049e-02,\n",
      "        -8.7729e-03, -3.7002e-03, -1.7216e-02], requires_grad=True)\n"
     ]
    }
   ],
   "source": [
    "model=Network()\n",
    "print(model.fc1.weight)\n",
    "print(model.fc1.bias)"
   ]
  },
  {
   "cell_type": "markdown",
   "metadata": {},
   "source": [
    "For custom initialization, we want to modify these tensors in place. These are actually autograd *Variables*, so we need to get back the actual tensors with `model.fc1.weight.data`. Once we have the tensors, we can fill them with zeros (for biases) or random normal values."
   ]
  },
  {
   "cell_type": "code",
   "execution_count": 66,
   "metadata": {},
   "outputs": [
    {
     "data": {
      "text/plain": [
       "tensor([0., 0., 0., 0., 0., 0., 0., 0., 0., 0., 0., 0., 0., 0., 0., 0., 0., 0., 0., 0., 0., 0., 0., 0.,\n",
       "        0., 0., 0., 0., 0., 0., 0., 0., 0., 0., 0., 0., 0., 0., 0., 0., 0., 0., 0., 0., 0., 0., 0., 0.,\n",
       "        0., 0., 0., 0., 0., 0., 0., 0., 0., 0., 0., 0., 0., 0., 0., 0., 0., 0., 0., 0., 0., 0., 0., 0.,\n",
       "        0., 0., 0., 0., 0., 0., 0., 0., 0., 0., 0., 0., 0., 0., 0., 0., 0., 0., 0., 0., 0., 0., 0., 0.,\n",
       "        0., 0., 0., 0., 0., 0., 0., 0., 0., 0., 0., 0., 0., 0., 0., 0., 0., 0., 0., 0., 0., 0., 0., 0.,\n",
       "        0., 0., 0., 0., 0., 0., 0., 0.])"
      ]
     },
     "execution_count": 66,
     "metadata": {},
     "output_type": "execute_result"
    }
   ],
   "source": [
    "# Set biases to all zeros\n",
    "model.fc1.bias.data.fill_(0)"
   ]
  },
  {
   "cell_type": "code",
   "execution_count": 67,
   "metadata": {},
   "outputs": [
    {
     "data": {
      "text/plain": [
       "tensor([[ 0.0096, -0.0063,  0.0016,  ...,  0.0042, -0.0069, -0.0043],\n",
       "        [-0.0200,  0.0008, -0.0010,  ...,  0.0018, -0.0110,  0.0246],\n",
       "        [-0.0136, -0.0055,  0.0083,  ...,  0.0001,  0.0065,  0.0064],\n",
       "        ...,\n",
       "        [ 0.0061,  0.0027,  0.0099,  ...,  0.0150, -0.0111,  0.0034],\n",
       "        [ 0.0051,  0.0040, -0.0021,  ..., -0.0049,  0.0076, -0.0050],\n",
       "        [-0.0049,  0.0179,  0.0071,  ...,  0.0012, -0.0050, -0.0046]])"
      ]
     },
     "execution_count": 67,
     "metadata": {},
     "output_type": "execute_result"
    }
   ],
   "source": [
    "# sample from random normal with standard dev = 0.01\n",
    "model.fc1.weight.data.normal_(std=0.01)"
   ]
  },
  {
   "cell_type": "markdown",
   "metadata": {},
   "source": [
    "### Forward pass\n",
    "\n",
    "Now that we have a network, let's see what happens when we pass in an image."
   ]
  },
  {
   "cell_type": "code",
   "execution_count": 68,
   "metadata": {},
   "outputs": [
    {
     "data": {
      "image/png": "[encoded data removed]",
      "text/plain": [
       "<Figure size 432x648 with 2 Axes>"
      ]
     },
     "metadata": {
      "image/png": {
       "height": 224,
       "width": 423
      },
      "needs_background": "light"
     },
     "output_type": "display_data"
    }
   ],
   "source": [
    "# Grab some data \n",
    "dataiter = iter(trainloader)\n",
    "images, labels = dataiter.next()\n",
    "\n",
    "# Resize images into a 1D vector, new shape is (batch size, color channels, image pixels) \n",
    "images.resize_(64, 1, 784)\n",
    "# or images.resize_(images.shape[0], 1, 784) to automatically get batch size\n",
    "\n",
    "# Forward pass through the network\n",
    "img_idx = 0\n",
    "ps = model.forward(images[img_idx,:])\n",
    "\n",
    "img = images[img_idx]\n",
    "helper.view_classify(img.view(1, 28, 28), ps)"
   ]
  },
  {
   "cell_type": "markdown",
   "metadata": {},
   "source": [
    "As you can see above, our network has basically no idea what this digit is. It's because we haven't trained it yet, all the weights are random!\n",
    "\n",
    "### Using `nn.Sequential`\n",
    "\n",
    "PyTorch provides a convenient way to build networks like this where a tensor is passed sequentially through operations, `nn.Sequential` ([documentation](https://pytorch.org/docs/master/nn.html#torch.nn.Sequential)). Using this to build the equivalent network:"
   ]
  },
  {
   "cell_type": "code",
   "execution_count": 69,
   "metadata": {},
   "outputs": [
    {
     "name": "stdout",
     "output_type": "stream",
     "text": [
      "Sequential(\n",
      "  (0): Linear(in_features=784, out_features=128, bias=True)\n",
      "  (1): ReLU()\n",
      "  (2): Linear(in_features=128, out_features=64, bias=True)\n",
      "  (3): ReLU()\n",
      "  (4): Linear(in_features=64, out_features=10, bias=True)\n",
      "  (5): Softmax()\n",
      ")\n"
     ]
    },
    {
     "data": {
      "image/png": "[encoded data removed]",
      "text/plain": [
       "<Figure size 432x648 with 2 Axes>"
      ]
     },
     "metadata": {
      "image/png": {
       "height": 224,
       "width": 423
      },
      "needs_background": "light"
     },
     "output_type": "display_data"
    }
   ],
   "source": [
    "# Hyperparameters for our network\n",
    "input_size = 784\n",
    "hidden_sizes = [128, 64]\n",
    "output_size = 10\n",
    "\n",
    "# Build a feed-forward network\n",
    "model = nn.Sequential(nn.Linear(input_size, hidden_sizes[0]),\n",
    "                      nn.ReLU(),\n",
    "                      nn.Linear(hidden_sizes[0], hidden_sizes[1]),\n",
    "                      nn.ReLU(),\n",
    "                      nn.Linear(hidden_sizes[1], output_size),\n",
    "                      nn.Softmax(dim=1))\n",
    "print(model)\n",
    "\n",
    "# Forward pass through the network and display output\n",
    "images, labels = next(iter(trainloader))\n",
    "images.resize_(images.shape[0], 1, 784)\n",
    "ps = model.forward(images[0,:])\n",
    "helper.view_classify(images[0].view(1, 28, 28), ps)"
   ]
  },
  {
   "cell_type": "markdown",
   "metadata": {},
   "source": [
    "Here our model is the same as before: 784 input units, a hidden layer with 128 units, ReLU activation, 64 unit hidden layer, another ReLU, then the output layer with 10 units, and the softmax output.\n",
    "\n",
    "The operations are available by passing in the appropriate index. For example, if you want to get first Linear operation and look at the weights, you'd use `model[0]`."
   ]
  },
  {
   "cell_type": "code",
   "execution_count": 70,
   "metadata": {},
   "outputs": [
    {
     "name": "stdout",
     "output_type": "stream",
     "text": [
      "Linear(in_features=784, out_features=128, bias=True)\n"
     ]
    },
    {
     "data": {
      "text/plain": [
       "Parameter containing:\n",
       "tensor([[ 0.0045, -0.0035,  0.0345,  ...,  0.0114,  0.0010,  0.0140],\n",
       "        [-0.0343, -0.0092, -0.0004,  ..., -0.0307, -0.0164,  0.0133],\n",
       "        [ 0.0095,  0.0007, -0.0269,  ..., -0.0275,  0.0075, -0.0230],\n",
       "        ...,\n",
       "        [-0.0234,  0.0098,  0.0310,  ..., -0.0119,  0.0244,  0.0193],\n",
       "        [-0.0222,  0.0351,  0.0199,  ..., -0.0153, -0.0134, -0.0272],\n",
       "        [ 0.0127, -0.0276,  0.0177,  ...,  0.0155, -0.0128, -0.0277]],\n",
       "       requires_grad=True)"
      ]
     },
     "execution_count": 70,
     "metadata": {},
     "output_type": "execute_result"
    }
   ],
   "source": [
    "print(model[0])\n",
    "model[0].weight"
   ]
  },
  {
   "cell_type": "markdown",
   "metadata": {},
   "source": [
    "You can also pass in an `OrderedDict` to name the individual layers and operations, instead of using incremental integers. Note that dictionary keys must be unique, so _each operation must have a different name_."
   ]
  },
  {
   "cell_type": "code",
   "execution_count": 71,
   "metadata": {},
   "outputs": [
    {
     "data": {
      "text/plain": [
       "Sequential(\n",
       "  (fc1): Linear(in_features=784, out_features=128, bias=True)\n",
       "  (relu1): ReLU()\n",
       "  (fc2): Linear(in_features=128, out_features=64, bias=True)\n",
       "  (relu2): ReLU()\n",
       "  (output): Linear(in_features=64, out_features=10, bias=True)\n",
       "  (softmax): Softmax()\n",
       ")"
      ]
     },
     "execution_count": 71,
     "metadata": {},
     "output_type": "execute_result"
    }
   ],
   "source": [
    "from collections import OrderedDict\n",
    "model = nn.Sequential(OrderedDict([\n",
    "                      ('fc1', nn.Linear(input_size, hidden_sizes[0])),\n",
    "                      ('relu1', nn.ReLU()),\n",
    "                      ('fc2', nn.Linear(hidden_sizes[0], hidden_sizes[1])),\n",
    "                      ('relu2', nn.ReLU()),\n",
    "                      ('output', nn.Linear(hidden_sizes[1], output_size)),\n",
    "                      ('softmax', nn.Softmax(dim=1))]))\n",
    "model"
   ]
  },
  {
   "cell_type": "markdown",
   "metadata": {},
   "source": [
    "Now you can access layers either by integer or the name"
   ]
  },
  {
   "cell_type": "code",
   "execution_count": 72,
   "metadata": {},
   "outputs": [
    {
     "name": "stdout",
     "output_type": "stream",
     "text": [
      "Linear(in_features=784, out_features=128, bias=True)\n",
      "Linear(in_features=784, out_features=128, bias=True)\n"
     ]
    }
   ],
   "source": [
    "print(model[0])\n",
    "print(model.fc1)"
   ]
  },
  {
   "cell_type": "markdown",
   "metadata": {},
   "source": [
    "In the next notebook, we'll see how we can train a neural network to accuractly predict the numbers appearing in the MNIST images."
   ]
  }
 ],
 "metadata": {
  "kernelspec": {
   "display_name": "Python 2",
   "language": "python",
   "name": "python2"
  },
  "language_info": {
   "codemirror_mode": {
    "name": "ipython",
    "version": 2
   },
   "file_extension": ".py",
   "mimetype": "text/x-python",
   "name": "python",
   "nbconvert_exporter": "python",
   "pygments_lexer": "ipython2",
   "version": "2.7.15"
  }
 },
 "nbformat": 4,
 "nbformat_minor": 2
}
